{
  "nbformat": 4,
  "nbformat_minor": 0,
  "metadata": {
    "colab": {
      "provenance": []
    },
    "kernelspec": {
      "name": "python3",
      "display_name": "Python 3"
    },
    "language_info": {
      "name": "python"
    }
  },
  "cells": [
    {
      "cell_type": "code",
      "execution_count": null,
      "metadata": {
        "id": "-yEv8TpnPA8w"
      },
      "outputs": [],
      "source": [
        "#create a program capable of displaying questions to the user like KBC.\n",
        "#use the list data type to store the question and their correct answer\n",
        "#display the final amount the person is taking home after playing the game"
      ]
    },
    {
      "cell_type": "code",
      "source": [
        "print(\"capital of india is:\")\n",
        "print(\"a.delhi\")\n",
        "print(\"b.mumbai\")\n",
        "print(\"c.andra\")\n",
        "print(\"d.kalkotta\")"
      ],
      "metadata": {
        "colab": {
          "base_uri": "https://localhost:8080/"
        },
        "id": "bRpUidc6S0qs",
        "outputId": "08eaec97-8a1a-47f3-9bbf-9182eb50bad9"
      },
      "execution_count": 1,
      "outputs": [
        {
          "output_type": "stream",
          "name": "stdout",
          "text": [
            "capital of india is:\n",
            "a.delhi\n",
            "b.mumbai\n",
            "c.andra\n",
            "d.kalkotta\n"
          ]
        }
      ]
    },
    {
      "cell_type": "code",
      "source": [
        "print(\"capital of india is:\")\n",
        "option=input(\"enter customer choose option :\")\n",
        "if(option==\"a\"):\n",
        "  print(\"mumbai\")\n",
        "elif(option==\"b\"):\n",
        "  print(\"delhi\")\n",
        "elif(option==\"c\"):\n",
        "  print(\"andre\")\n",
        "else:\n",
        "  print(\"kalkatta\")\n"
      ],
      "metadata": {
        "colab": {
          "base_uri": "https://localhost:8080/"
        },
        "id": "fmfB4kBwTfLH",
        "outputId": "f06c1f19-df63-48c9-f15b-92b57dee3622"
      },
      "execution_count": 12,
      "outputs": [
        {
          "output_type": "stream",
          "name": "stdout",
          "text": [
            "capital of india is:\n",
            "enter customer choose option :b\n",
            "delhi\n"
          ]
        }
      ]
    },
    {
      "cell_type": "markdown",
      "source": [
        "f string in python\n",
        "\n"
      ],
      "metadata": {
        "id": "GJkDwakPb7z3"
      }
    },
    {
      "cell_type": "code",
      "source": [
        "letter=\"my name is {} im from {}\"\n",
        "country=\"india\"\n",
        "name=\"spoorthi\"\n",
        "print(letter.format(name,country))"
      ],
      "metadata": {
        "colab": {
          "base_uri": "https://localhost:8080/"
        },
        "id": "WbxttGT5Y4eU",
        "outputId": "e06818a5-d44e-402f-d12f-211f895882d5"
      },
      "execution_count": 14,
      "outputs": [
        {
          "output_type": "stream",
          "name": "stdout",
          "text": [
            "my name is spoorthi im from india\n"
          ]
        }
      ]
    },
    {
      "cell_type": "code",
      "source": [
        "letter=\"my name is {1} im from {0}\"\n",
        "country=\"india\"\n",
        "name=\"spoorthi\"\n",
        "print(letter.format(country,name))"
      ],
      "metadata": {
        "colab": {
          "base_uri": "https://localhost:8080/"
        },
        "id": "tDIFeOE8cxct",
        "outputId": "b8811e59-6d7c-49a0-911e-20caeafc63be"
      },
      "execution_count": 15,
      "outputs": [
        {
          "output_type": "stream",
          "name": "stdout",
          "text": [
            "my name is spoorthi im from india\n"
          ]
        }
      ]
    },
    {
      "cell_type": "code",
      "source": [
        "letter=\"my name is {} im from {}\"\n",
        "country=\"india\"\n",
        "name=\"spoorthi\"\n",
        "print(letter.format(country,name))"
      ],
      "metadata": {
        "colab": {
          "base_uri": "https://localhost:8080/"
        },
        "id": "rZckcspYelKo",
        "outputId": "4028d440-1adf-4afe-963c-3817276ee6cd"
      },
      "execution_count": 16,
      "outputs": [
        {
          "output_type": "stream",
          "name": "stdout",
          "text": [
            "my name is india im from spoorthi\n"
          ]
        }
      ]
    },
    {
      "cell_type": "code",
      "source": [
        "country=\"india\"\n",
        "name=\"spoorthi\"\n",
        "print(f\"my name is {name} im from {country}\")"
      ],
      "metadata": {
        "colab": {
          "base_uri": "https://localhost:8080/"
        },
        "id": "OPUC-IjFepOA",
        "outputId": "6a1ba8df-e524-4466-bff4-7ba3413d2e16"
      },
      "execution_count": 17,
      "outputs": [
        {
          "output_type": "stream",
          "name": "stdout",
          "text": [
            "my name is spoorthi im from india\n"
          ]
        }
      ]
    },
    {
      "cell_type": "code",
      "source": [
        "text=\"for only {price:.2f} dollars\"\n",
        "print(text.format(price=49.0087653))"
      ],
      "metadata": {
        "colab": {
          "base_uri": "https://localhost:8080/"
        },
        "id": "Covd2Fx8gNKV",
        "outputId": "78f00110-f490-4e93-8901-5a6850ce2c42"
      },
      "execution_count": 18,
      "outputs": [
        {
          "output_type": "stream",
          "name": "stdout",
          "text": [
            "for only 49.01 dollars\n"
          ]
        }
      ]
    },
    {
      "cell_type": "code",
      "source": [
        "price=45.476678\n",
        "print(f\"for only {price:.2f} dallers\")"
      ],
      "metadata": {
        "colab": {
          "base_uri": "https://localhost:8080/"
        },
        "id": "QaYUz_cqgjDW",
        "outputId": "07718def-767e-4481-bc21-4522972f3450"
      },
      "execution_count": 19,
      "outputs": [
        {
          "output_type": "stream",
          "name": "stdout",
          "text": [
            "for only 45.48 dallers\n"
          ]
        }
      ]
    },
    {
      "cell_type": "code",
      "source": [
        "print(type(f\"{2*30}\"))"
      ],
      "metadata": {
        "colab": {
          "base_uri": "https://localhost:8080/"
        },
        "id": "gEaOLzJsiC78",
        "outputId": "d44f1147-4ade-4de8-8155-0ea7efa6169e"
      },
      "execution_count": 21,
      "outputs": [
        {
          "output_type": "stream",
          "name": "stdout",
          "text": [
            "<class 'str'>\n"
          ]
        }
      ]
    },
    {
      "cell_type": "code",
      "source": [
        "print(f\"hai my name is {{name}} and im from{{country}}\")"
      ],
      "metadata": {
        "colab": {
          "base_uri": "https://localhost:8080/"
        },
        "id": "IfgVw-88kwIe",
        "outputId": "48fbbadc-7a9d-4cf2-eade-c38eb55777c8"
      },
      "execution_count": 23,
      "outputs": [
        {
          "output_type": "stream",
          "name": "stdout",
          "text": [
            "hai my name is {name} and im from{country}\n"
          ]
        }
      ]
    },
    {
      "cell_type": "markdown",
      "source": [
        "## doc string"
      ],
      "metadata": {
        "id": "s1K0yNEzmCgZ"
      }
    },
    {
      "cell_type": "code",
      "source": [
        "#string literals that appears after string defination of a defination\n",
        "#it should be below function name or above the function body def square(n):    # multiple comment line will also print here\n",
        "def square(n):\n",
        "  print(n)   # because of these line doc string would not execute\n",
        "  '''square of a given number is'''\n",
        "  print(n**2)\n",
        "square (5)\n",
        "print(square.__doc__)\n",
        "\n"
      ],
      "metadata": {
        "colab": {
          "base_uri": "https://localhost:8080/"
        },
        "id": "sCv-QhO-lU3w",
        "outputId": "f22627db-12d7-48fa-bcc5-80e7fb809a01"
      },
      "execution_count": 28,
      "outputs": [
        {
          "output_type": "stream",
          "name": "stdout",
          "text": [
            "5\n",
            "25\n",
            "None\n"
          ]
        }
      ]
    },
    {
      "cell_type": "code",
      "source": [],
      "metadata": {
        "id": "8kx47x2erqdD"
      },
      "execution_count": null,
      "outputs": []
    },
    {
      "cell_type": "code",
      "source": [
        "def square(n):\n",
        "  print(n**2)\n",
        "square (5)"
      ],
      "metadata": {
        "colab": {
          "base_uri": "https://localhost:8080/"
        },
        "id": "-LC0ucixlRi7",
        "outputId": "77853ccc-2f22-4212-cd1b-712fb6fcc8c6"
      },
      "execution_count": 25,
      "outputs": [
        {
          "output_type": "stream",
          "name": "stdout",
          "text": [
            "25\n"
          ]
        }
      ]
    },
    {
      "cell_type": "code",
      "source": [
        "def square(n):    # multiple comment line will also print here\n",
        "  '''square of a given number is'''\n",
        "  print(n**2)\n",
        "square (5)\n",
        "print(square.__doc__)"
      ],
      "metadata": {
        "colab": {
          "base_uri": "https://localhost:8080/"
        },
        "id": "ej1YPO7DnXHG",
        "outputId": "1f285c79-eaae-43a8-90ed-156f18085b6e"
      },
      "execution_count": 27,
      "outputs": [
        {
          "output_type": "stream",
          "name": "stdout",
          "text": [
            "25\n",
            "square of a given number is\n"
          ]
        }
      ]
    },
    {
      "cell_type": "code",
      "source": [
        "#PEP 8 :python enhancement program:that provide guidelines and best practice on how to write python code\n",
        "\n"
      ],
      "metadata": {
        "id": "3mnUD2Kgpl9g"
      },
      "execution_count": null,
      "outputs": []
    },
    {
      "cell_type": "code",
      "source": [
        "#zen of python:\n"
      ],
      "metadata": {
        "id": "ik1NMOjrpXn6"
      },
      "execution_count": null,
      "outputs": []
    },
    {
      "cell_type": "code",
      "source": [
        "#recursion:defining something in terms of itself"
      ],
      "metadata": {
        "id": "P_PD89wTnO6k"
      },
      "execution_count": null,
      "outputs": []
    },
    {
      "cell_type": "code",
      "source": [
        "#factorial of 7!\n",
        "def factoraial(n):\n",
        "  if (n==0 or n==1) :\n",
        "    return 1\n",
        "  else:\n",
        "    return n *factoraial(n-1)\n",
        "factoraial(3)\n"
      ],
      "metadata": {
        "colab": {
          "base_uri": "https://localhost:8080/"
        },
        "id": "zvr7VtUwkLhm",
        "outputId": "6bd7c449-5fc9-4c0e-a3cd-0818da6b594f"
      },
      "execution_count": 36,
      "outputs": [
        {
          "output_type": "execute_result",
          "data": {
            "text/plain": [
              "6"
            ]
          },
          "metadata": {},
          "execution_count": 36
        }
      ]
    },
    {
      "cell_type": "code",
      "source": [
        "#fabinnoci series\n",
        "#f0=0,f1=1,f3=f1+f0,fn=fn-1+fn-2"
      ],
      "metadata": {
        "id": "UC1iBLyqv5YM"
      },
      "execution_count": null,
      "outputs": []
    },
    {
      "cell_type": "code",
      "source": [
        "def fabinnoci(n):\n",
        "  if n==0:\n",
        "    return 0\n",
        "  elif(n==1):\n",
        "    return 1\n",
        "  else:\n",
        "    return fabinnoci(n-1)+fabinnoci(n-2)\n",
        "  fabinnoci(7)\n",
        "\n",
        ""
      ],
      "metadata": {
        "id": "iJPRdMr-vshC"
      },
      "execution_count": 41,
      "outputs": []
    },
    {
      "cell_type": "code",
      "source": [
        "#sets:set is unordered collection of data items,repeated values are not allowed"
      ],
      "metadata": {
        "id": "5HfUN8RbzoJE"
      },
      "execution_count": null,
      "outputs": []
    },
    {
      "cell_type": "code",
      "source": [
        "s={2,4,2,6}\n",
        "print(s)"
      ],
      "metadata": {
        "colab": {
          "base_uri": "https://localhost:8080/"
        },
        "id": "C6Gf1Yq0y7dd",
        "outputId": "e6988f1c-be6e-44bc-959b-258e8728920e"
      },
      "execution_count": 42,
      "outputs": [
        {
          "output_type": "stream",
          "name": "stdout",
          "text": [
            "{2, 4, 6}\n"
          ]
        }
      ]
    },
    {
      "cell_type": "code",
      "source": [
        "t={\"spoo\",\"moksha\",\"krish\",6,7,8}  # inordered collection of data items\n",
        "t"
      ],
      "metadata": {
        "colab": {
          "base_uri": "https://localhost:8080/"
        },
        "id": "Mzvlp4ni1H90",
        "outputId": "98ac11cd-6c7c-4093-9f48-6669166820a6"
      },
      "execution_count": 44,
      "outputs": [
        {
          "output_type": "execute_result",
          "data": {
            "text/plain": [
              "{6, 7, 8, 'krish', 'moksha', 'spoo'}"
            ]
          },
          "metadata": {},
          "execution_count": 44
        }
      ]
    },
    {
      "cell_type": "code",
      "source": [
        "spoo={8,9,0,\"spoo\",\"arya\",\"arvi\"}\n",
        "print(type(spoo))"
      ],
      "metadata": {
        "colab": {
          "base_uri": "https://localhost:8080/"
        },
        "id": "_ShVZsqw1mIw",
        "outputId": "bbfd2d78-7023-476a-880e-cf4d10ce8b91"
      },
      "execution_count": 45,
      "outputs": [
        {
          "output_type": "stream",
          "name": "stdout",
          "text": [
            "<class 'set'>\n"
          ]
        }
      ]
    },
    {
      "cell_type": "code",
      "source": [
        "spoo={}\n",
        "print(type(spoo))"
      ],
      "metadata": {
        "colab": {
          "base_uri": "https://localhost:8080/"
        },
        "id": "cdIJ_tMU2WIj",
        "outputId": "f3c12da0-7605-4b5b-d557-50db7f1f8f35"
      },
      "execution_count": 46,
      "outputs": [
        {
          "output_type": "stream",
          "name": "stdout",
          "text": [
            "<class 'dict'>\n"
          ]
        }
      ]
    },
    {
      "cell_type": "code",
      "source": [
        "spoo=set()  #to create an empty set\n",
        "print(type(spoo))"
      ],
      "metadata": {
        "colab": {
          "base_uri": "https://localhost:8080/"
        },
        "id": "IZ9T8Rx-2cBE",
        "outputId": "a55e0ab9-3ec9-48ce-b7bd-4b3ab8052293"
      },
      "execution_count": 47,
      "outputs": [
        {
          "output_type": "stream",
          "name": "stdout",
          "text": [
            "<class 'set'>\n"
          ]
        }
      ]
    },
    {
      "cell_type": "code",
      "source": [
        "spoo={8,9,0,\"spoo\",\"arya\",\"arvi\"}\n",
        "for i in spoo:\n",
        "  print(i)"
      ],
      "metadata": {
        "colab": {
          "base_uri": "https://localhost:8080/"
        },
        "id": "GG-pIVfy2z-x",
        "outputId": "2841b6c5-a89d-45ca-891e-6088fd2b3625"
      },
      "execution_count": 48,
      "outputs": [
        {
          "output_type": "stream",
          "name": "stdout",
          "text": [
            "0\n",
            "arvi\n",
            "spoo\n",
            "8\n",
            "9\n",
            "arya\n"
          ]
        }
      ]
    },
    {
      "cell_type": "code",
      "source": [
        "#sets method\n",
        "#union()\n",
        "s1={1,2,3,4,6}\n",
        "s2={7,8,9,10,11}\n",
        "print(s1.union(s2))\n",
        "print(s1,s2)"
      ],
      "metadata": {
        "colab": {
          "base_uri": "https://localhost:8080/"
        },
        "id": "U8c7UtAE3Ddu",
        "outputId": "c2d25e2b-db03-4d02-cdfa-2f512231a740"
      },
      "execution_count": 50,
      "outputs": [
        {
          "output_type": "stream",
          "name": "stdout",
          "text": [
            "{1, 2, 3, 4, 6, 7, 8, 9, 10, 11}\n",
            "{1, 2, 3, 4, 6} {7, 8, 9, 10, 11}\n"
          ]
        }
      ]
    },
    {
      "cell_type": "code",
      "source": [
        "s1.update(s2)\n",
        "print(s1,s2)"
      ],
      "metadata": {
        "colab": {
          "base_uri": "https://localhost:8080/"
        },
        "id": "6aZSkNGc4bvM",
        "outputId": "309916fc-bdf2-46b4-b7ca-f11ffe846e6b"
      },
      "execution_count": 52,
      "outputs": [
        {
          "output_type": "stream",
          "name": "stdout",
          "text": [
            "{1, 2, 3, 4, 6, 7, 8, 9, 10, 11} {7, 8, 9, 10, 11}\n"
          ]
        }
      ]
    },
    {
      "cell_type": "code",
      "source": [
        "#intersection and update\n",
        "s1={1,2,3,4,6}\n",
        "s2={7,8,9,1,2}\n",
        "print(s1.intersection(s2))\n",
        "s1.update(s2)\n",
        "print(s1,s2)\n"
      ],
      "metadata": {
        "colab": {
          "base_uri": "https://localhost:8080/"
        },
        "id": "ImrPGxfv4nXT",
        "outputId": "27bacf48-120b-41f2-8fff-6ea31af722b2"
      },
      "execution_count": 55,
      "outputs": [
        {
          "output_type": "stream",
          "name": "stdout",
          "text": [
            "{1, 2}\n",
            "{1, 2, 3, 4, 6, 7, 8, 9} {1, 2, 7, 8, 9}\n"
          ]
        }
      ]
    },
    {
      "cell_type": "code",
      "source": [
        "s1={1,2,3,4,6}\n",
        "s2={7,8,9,1,2}\n",
        "s1.intersection_update(s2)\n",
        "print(s1,s2)"
      ],
      "metadata": {
        "colab": {
          "base_uri": "https://localhost:8080/"
        },
        "id": "q9cpMyqc5CSy",
        "outputId": "d72ce8be-d9fc-4b70-dfc3-7fbd9531e1d2"
      },
      "execution_count": 58,
      "outputs": [
        {
          "output_type": "stream",
          "name": "stdout",
          "text": [
            "{1, 2} {1, 2, 7, 8, 9}\n"
          ]
        }
      ]
    },
    {
      "cell_type": "markdown",
      "source": [
        "## **symmetric difference**"
      ],
      "metadata": {
        "id": "S-t9BAlq5zrP"
      }
    },
    {
      "cell_type": "code",
      "source": [
        "A Union B(-)A intersection B"
      ],
      "metadata": {
        "id": "t0X8VHU15vXw"
      },
      "execution_count": null,
      "outputs": []
    },
    {
      "cell_type": "code",
      "source": [
        "s1={1,2,3,4,6}\n",
        "s2={7,8,9,1,2}\n",
        "s3=(s1.intersection(s2))\n",
        "print(s3)"
      ],
      "metadata": {
        "colab": {
          "base_uri": "https://localhost:8080/"
        },
        "id": "aKSMZfUA5ruA",
        "outputId": "659900e4-747c-494d-88ea-a12e7b268cf7"
      },
      "execution_count": 60,
      "outputs": [
        {
          "output_type": "stream",
          "name": "stdout",
          "text": [
            "{1, 2}\n"
          ]
        }
      ]
    },
    {
      "cell_type": "code",
      "source": [
        "s1={1,2,3,4,6}  #difference gives an value of one set which is not common in both\n",
        "s2={7,8,9,1,2}\n",
        "s3=(s1.difference(s2))\n",
        "print(s3)"
      ],
      "metadata": {
        "colab": {
          "base_uri": "https://localhost:8080/"
        },
        "id": "1uC6CKy96dRn",
        "outputId": "b6a079dc-c425-4bd2-fd8f-621bdd809081"
      },
      "execution_count": 61,
      "outputs": [
        {
          "output_type": "stream",
          "name": "stdout",
          "text": [
            "{3, 4, 6}\n"
          ]
        }
      ]
    },
    {
      "cell_type": "code",
      "source": [
        "#disjoined sets :no common element\n",
        "s1={1,2,3,4,6}\n",
        "s2={7,8,9,1,2}\n",
        "print(s1.isdisjoint(s2))\n"
      ],
      "metadata": {
        "colab": {
          "base_uri": "https://localhost:8080/"
        },
        "id": "MMw7rsH27Qr-",
        "outputId": "3d739cb9-e6eb-4354-cb4a-d630d7c0087d"
      },
      "execution_count": 62,
      "outputs": [
        {
          "output_type": "stream",
          "name": "stdout",
          "text": [
            "False\n"
          ]
        }
      ]
    },
    {
      "cell_type": "code",
      "source": [
        "s1={1,2,3,4,6}\n",
        "s2={7,8,9,1,2}   #element s1 should be there in s2\n",
        "print(s1.issuperset(s2))"
      ],
      "metadata": {
        "colab": {
          "base_uri": "https://localhost:8080/"
        },
        "id": "c52ANbAm8BMq",
        "outputId": "d8d7e40d-fcdd-4126-fe0d-1ee4aa437a42"
      },
      "execution_count": 64,
      "outputs": [
        {
          "output_type": "stream",
          "name": "stdout",
          "text": [
            "False\n"
          ]
        }
      ]
    },
    {
      "cell_type": "code",
      "source": [
        "s1={1,2,3,4,6}\n",
        "s3={1,2}\n",
        "print(s3.issubset(s1))"
      ],
      "metadata": {
        "colab": {
          "base_uri": "https://localhost:8080/"
        },
        "id": "5uVWaevi8MWb",
        "outputId": "8301e481-65ba-42a6-eac3-43d08e5ee61d"
      },
      "execution_count": 65,
      "outputs": [
        {
          "output_type": "stream",
          "name": "stdout",
          "text": [
            "True\n"
          ]
        }
      ]
    },
    {
      "cell_type": "code",
      "source": [
        "s1={1,2,3,4,6}\n",
        "s1.add(8)\n",
        "print(s1)"
      ],
      "metadata": {
        "colab": {
          "base_uri": "https://localhost:8080/"
        },
        "id": "76tKSspP9VGf",
        "outputId": "e8372736-4cc8-4581-ed89-48b5fb599128"
      },
      "execution_count": 67,
      "outputs": [
        {
          "output_type": "stream",
          "name": "stdout",
          "text": [
            "{1, 2, 3, 4, 6, 8}\n"
          ]
        }
      ]
    },
    {
      "cell_type": "code",
      "source": [
        "s1={1,2,3,4,6}  # more that 1 value to be added\n",
        "s2={5,7,8,9}\n",
        "s4=s1.update(s2)\n",
        "print(s4)"
      ],
      "metadata": {
        "colab": {
          "base_uri": "https://localhost:8080/"
        },
        "id": "gKs3_rhN9oPL",
        "outputId": "b42ca1f1-6bc3-407e-c182-60662d512cfe"
      },
      "execution_count": 73,
      "outputs": [
        {
          "output_type": "stream",
          "name": "stdout",
          "text": [
            "None\n"
          ]
        }
      ]
    },
    {
      "cell_type": "code",
      "source": [
        "s1={1,2,3,4,6}\n",
        "s1.remove(1)  #if mentioned element is not found in a s1 then it raise an error\n",
        "print(s1)"
      ],
      "metadata": {
        "colab": {
          "base_uri": "https://localhost:8080/"
        },
        "id": "ON6MqYMN-k5s",
        "outputId": "aa5c690e-8198-4ae7-fc84-26bb26f764fa"
      },
      "execution_count": 74,
      "outputs": [
        {
          "output_type": "stream",
          "name": "stdout",
          "text": [
            "{2, 3, 4, 6}\n"
          ]
        }
      ]
    },
    {
      "cell_type": "code",
      "source": [
        "s1={1,2,3,4,6}\n",
        "s1.discard(7)   #if mentioned element is not found in a s1 then it raise no error\n",
        "print(s1)"
      ],
      "metadata": {
        "colab": {
          "base_uri": "https://localhost:8080/"
        },
        "id": "AZ9tTdT--z7m",
        "outputId": "51c90852-29a3-46f6-eaf2-b1a5ca217fa6"
      },
      "execution_count": 75,
      "outputs": [
        {
          "output_type": "stream",
          "name": "stdout",
          "text": [
            "{1, 2, 3, 4, 6}\n"
          ]
        }
      ]
    },
    {
      "cell_type": "code",
      "source": [
        "s1={1,2,3,4,6}\n",
        "s3=s1.pop()\n",
        "print(s1)\n",
        "print(s3)"
      ],
      "metadata": {
        "colab": {
          "base_uri": "https://localhost:8080/"
        },
        "id": "hfG3GyQ2-741",
        "outputId": "4c57f3d5-a8a8-4106-8952-355afa0653d5"
      },
      "execution_count": 76,
      "outputs": [
        {
          "output_type": "stream",
          "name": "stdout",
          "text": [
            "{2, 3, 4, 6}\n",
            "1\n"
          ]
        }
      ]
    },
    {
      "cell_type": "code",
      "source": [
        "s1={1,2,3,4,6}\n",
        "del s1  #  remove completely along with elemnet no output will consider\n"
      ],
      "metadata": {
        "id": "hsb5PB0y_2VK"
      },
      "execution_count": 82,
      "outputs": []
    },
    {
      "cell_type": "code",
      "source": [
        "s1={1,2,3,4,6}\n",
        "s1.clear()\n",
        "print(s1)  #  remove all element from set\n"
      ],
      "metadata": {
        "colab": {
          "base_uri": "https://localhost:8080/"
        },
        "id": "PEd8ykqHAdlE",
        "outputId": "3db25f26-459e-4328-afe6-b6121dc1231e"
      },
      "execution_count": 83,
      "outputs": [
        {
          "output_type": "stream",
          "name": "stdout",
          "text": [
            "set()\n"
          ]
        }
      ]
    },
    {
      "cell_type": "code",
      "source": [
        "s1={1,2,3,4,6}\n",
        "if 1 in s1:\n",
        "  print(\"1 is found\")\n",
        "else:\n",
        "  print(\"1 is not found\")\n"
      ],
      "metadata": {
        "colab": {
          "base_uri": "https://localhost:8080/"
        },
        "id": "va-ZEWsUAmiw",
        "outputId": "07fda68e-62f6-44b3-ec16-bd92f8fa9920"
      },
      "execution_count": 84,
      "outputs": [
        {
          "output_type": "stream",
          "name": "stdout",
          "text": [
            "1 is found\n"
          ]
        }
      ]
    },
    {
      "cell_type": "code",
      "source": [],
      "metadata": {
        "id": "uQwr4_NFBJYn"
      },
      "execution_count": null,
      "outputs": []
    },
    {
      "cell_type": "code",
      "source": [],
      "metadata": {
        "id": "U5jvOzL0AVwa"
      },
      "execution_count": null,
      "outputs": []
    },
    {
      "cell_type": "code",
      "source": [],
      "metadata": {
        "id": "IPQmDxuYAQQD"
      },
      "execution_count": null,
      "outputs": []
    },
    {
      "cell_type": "code",
      "source": [],
      "metadata": {
        "id": "5ylfCkkrANLG"
      },
      "execution_count": null,
      "outputs": []
    },
    {
      "cell_type": "code",
      "source": [],
      "metadata": {
        "id": "3wOJiRrnADQ2"
      },
      "execution_count": null,
      "outputs": []
    },
    {
      "cell_type": "code",
      "source": [],
      "metadata": {
        "id": "uKWqoRVJ__6N"
      },
      "execution_count": null,
      "outputs": []
    },
    {
      "cell_type": "code",
      "source": [],
      "metadata": {
        "id": "Ym_99TH5-iRc"
      },
      "execution_count": null,
      "outputs": []
    },
    {
      "cell_type": "code",
      "source": [],
      "metadata": {
        "id": "5HndCU4W-Mca"
      },
      "execution_count": null,
      "outputs": []
    },
    {
      "cell_type": "code",
      "source": [],
      "metadata": {
        "id": "wowtB1lB-IMe"
      },
      "execution_count": null,
      "outputs": []
    },
    {
      "cell_type": "code",
      "source": [],
      "metadata": {
        "id": "eB3vK-RJ94t8"
      },
      "execution_count": null,
      "outputs": []
    },
    {
      "cell_type": "code",
      "source": [],
      "metadata": {
        "id": "TgIVrbuz90cL"
      },
      "execution_count": null,
      "outputs": []
    },
    {
      "cell_type": "code",
      "source": [],
      "metadata": {
        "id": "dfnvzZFj9ji0"
      },
      "execution_count": null,
      "outputs": []
    },
    {
      "cell_type": "code",
      "source": [],
      "metadata": {
        "id": "i3LUiLBH5i3A"
      },
      "execution_count": null,
      "outputs": []
    },
    {
      "cell_type": "code",
      "source": [],
      "metadata": {
        "id": "k3EzkAYV471t"
      },
      "execution_count": null,
      "outputs": []
    },
    {
      "cell_type": "code",
      "source": [],
      "metadata": {
        "id": "JHPAE3GX42U7"
      },
      "execution_count": null,
      "outputs": []
    },
    {
      "cell_type": "code",
      "source": [],
      "metadata": {
        "id": "fbnDRFXO4ioB"
      },
      "execution_count": null,
      "outputs": []
    },
    {
      "cell_type": "code",
      "source": [
        "#"
      ],
      "metadata": {
        "id": "wQAuBZ7B4JMU"
      },
      "execution_count": null,
      "outputs": []
    },
    {
      "cell_type": "code",
      "source": [],
      "metadata": {
        "id": "SVMCNlrM1jKt"
      },
      "execution_count": null,
      "outputs": []
    },
    {
      "cell_type": "code",
      "source": [],
      "metadata": {
        "id": "Vw1XPCf-yYcT"
      },
      "execution_count": null,
      "outputs": []
    },
    {
      "cell_type": "code",
      "source": [],
      "metadata": {
        "id": "KQN2qRP7yWgO"
      },
      "execution_count": null,
      "outputs": []
    },
    {
      "cell_type": "code",
      "source": [],
      "metadata": {
        "id": "ibAqJh6-yKFi"
      },
      "execution_count": null,
      "outputs": []
    },
    {
      "cell_type": "code",
      "source": [],
      "metadata": {
        "id": "neDd_IL_vk4Q"
      },
      "execution_count": null,
      "outputs": []
    },
    {
      "cell_type": "code",
      "source": [],
      "metadata": {
        "id": "3tmMi5ZWvbD5"
      },
      "execution_count": null,
      "outputs": []
    },
    {
      "cell_type": "code",
      "source": [],
      "metadata": {
        "id": "DX3WVrTfvVew"
      },
      "execution_count": null,
      "outputs": []
    },
    {
      "cell_type": "code",
      "source": [],
      "metadata": {
        "id": "Cg3LfTgRvQ_O"
      },
      "execution_count": null,
      "outputs": []
    },
    {
      "cell_type": "code",
      "source": [],
      "metadata": {
        "id": "vB6JJIFHvFeT"
      },
      "execution_count": null,
      "outputs": []
    },
    {
      "cell_type": "code",
      "source": [],
      "metadata": {
        "id": "Twsm70o1u_-L"
      },
      "execution_count": null,
      "outputs": []
    },
    {
      "cell_type": "code",
      "source": [],
      "metadata": {
        "id": "Z6hy1poacugw"
      },
      "execution_count": null,
      "outputs": []
    },
    {
      "cell_type": "code",
      "source": [],
      "metadata": {
        "id": "IZQfmUUQY1rm"
      },
      "execution_count": null,
      "outputs": []
    },
    {
      "cell_type": "code",
      "source": [],
      "metadata": {
        "id": "mw3qE-AsYgVP"
      },
      "execution_count": null,
      "outputs": []
    },
    {
      "cell_type": "code",
      "source": [],
      "metadata": {
        "id": "VfJxVMgvVykp"
      },
      "execution_count": null,
      "outputs": []
    },
    {
      "cell_type": "code",
      "source": [],
      "metadata": {
        "id": "CsgVc55mVvLV"
      },
      "execution_count": null,
      "outputs": []
    },
    {
      "cell_type": "code",
      "source": [],
      "metadata": {
        "id": "VaA6NGf9VsvB"
      },
      "execution_count": 5,
      "outputs": []
    },
    {
      "cell_type": "code",
      "source": [],
      "metadata": {
        "id": "aw6PC_3oVuWM"
      },
      "execution_count": null,
      "outputs": []
    },
    {
      "cell_type": "code",
      "source": [],
      "metadata": {
        "id": "Q2mZKnu1VKfh"
      },
      "execution_count": null,
      "outputs": []
    },
    {
      "cell_type": "code",
      "source": [],
      "metadata": {
        "id": "Um8NolN3VEqY"
      },
      "execution_count": null,
      "outputs": []
    },
    {
      "cell_type": "code",
      "source": [],
      "metadata": {
        "id": "2DAZLte2S0tT"
      },
      "execution_count": null,
      "outputs": []
    },
    {
      "cell_type": "code",
      "source": [],
      "metadata": {
        "id": "qhCCWhqES0v7"
      },
      "execution_count": null,
      "outputs": []
    },
    {
      "cell_type": "code",
      "source": [],
      "metadata": {
        "id": "6QwRAH_vS0yr"
      },
      "execution_count": null,
      "outputs": []
    },
    {
      "cell_type": "code",
      "source": [],
      "metadata": {
        "id": "Az90CXX7S01h"
      },
      "execution_count": null,
      "outputs": []
    },
    {
      "cell_type": "code",
      "source": [],
      "metadata": {
        "id": "lTxPdvOiS04J"
      },
      "execution_count": null,
      "outputs": []
    },
    {
      "cell_type": "code",
      "source": [],
      "metadata": {
        "id": "z9x0J8HwS06p"
      },
      "execution_count": null,
      "outputs": []
    },
    {
      "cell_type": "code",
      "source": [],
      "metadata": {
        "id": "zNqWPeDQS09R"
      },
      "execution_count": null,
      "outputs": []
    },
    {
      "cell_type": "code",
      "source": [],
      "metadata": {
        "id": "qArHmvOIS0_5"
      },
      "execution_count": null,
      "outputs": []
    },
    {
      "cell_type": "code",
      "source": [],
      "metadata": {
        "id": "cpp5rH_IS1Ca"
      },
      "execution_count": null,
      "outputs": []
    },
    {
      "cell_type": "code",
      "source": [],
      "metadata": {
        "id": "GBXJQq1IS1FZ"
      },
      "execution_count": null,
      "outputs": []
    },
    {
      "cell_type": "code",
      "source": [],
      "metadata": {
        "id": "fCiHGN1IS1IC"
      },
      "execution_count": null,
      "outputs": []
    },
    {
      "cell_type": "code",
      "source": [],
      "metadata": {
        "id": "0VscR73fS1Kq"
      },
      "execution_count": null,
      "outputs": []
    },
    {
      "cell_type": "code",
      "source": [],
      "metadata": {
        "id": "WUJk9d1WS1NT"
      },
      "execution_count": null,
      "outputs": []
    },
    {
      "cell_type": "code",
      "source": [],
      "metadata": {
        "id": "1XtAzlR4S1P1"
      },
      "execution_count": null,
      "outputs": []
    },
    {
      "cell_type": "code",
      "source": [],
      "metadata": {
        "id": "7xK9e2kPS1Sl"
      },
      "execution_count": null,
      "outputs": []
    }
  ]
}