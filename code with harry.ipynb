{
 "cells": [
  {
   "cell_type": "code",
   "execution_count": 1,
   "id": "888c87c9-e73e-4e9a-b9bc-e8c50e698dee",
   "metadata": {},
   "outputs": [
    {
     "name": "stdout",
     "output_type": "stream",
     "text": [
      "harry\n"
     ]
    }
   ],
   "source": [
    "print(\"harry\")"
   ]
  },
  {
   "cell_type": "code",
   "execution_count": 3,
   "id": "49c6e0f4-8173-4c80-bc8a-c67b5d0e4ce1",
   "metadata": {},
   "outputs": [
    {
     "name": "stdout",
     "output_type": "stream",
     "text": [
      "5\n"
     ]
    }
   ],
   "source": [
    "print(5)"
   ]
  },
  {
   "cell_type": "code",
   "execution_count": 7,
   "id": "bbb95e1e-bc75-4c21-aa4b-1aaad88f5bf8",
   "metadata": {},
   "outputs": [],
   "source": [
    "import pandas"
   ]
  },
  {
   "cell_type": "code",
   "execution_count": 13,
   "id": "d14549c2-a14b-4249-8202-9f28e9e25bbf",
   "metadata": {},
   "outputs": [],
   "source": [
    "import sklearn"
   ]
  },
  {
   "cell_type": "code",
   "execution_count": 15,
   "id": "e7de0b17-932f-4a3c-b471-d641fa717750",
   "metadata": {},
   "outputs": [
    {
     "name": "stdout",
     "output_type": "stream",
     "text": [
      "hi\n"
     ]
    }
   ],
   "source": [
    "print(\"hi\")"
   ]
  },
  {
   "cell_type": "code",
   "execution_count": 19,
   "id": "b1d360e9-7e53-4477-94a3-1534338d862e",
   "metadata": {},
   "outputs": [],
   "source": [
    "import hashlib"
   ]
  },
  {
   "cell_type": "code",
   "execution_count": 23,
   "id": "1728f20c-bd8a-41ab-aad4-f4946c4d98bc",
   "metadata": {},
   "outputs": [
    {
     "name": "stdout",
     "output_type": "stream",
     "text": [
      "hello world\n"
     ]
    }
   ],
   "source": [
    "print(\"hello world\")"
   ]
  },
  {
   "cell_type": "code",
   "execution_count": 25,
   "id": "996c465b-d7f3-4472-bcd5-bb6caa30bf48",
   "metadata": {},
   "outputs": [
    {
     "name": "stdout",
     "output_type": "stream",
     "text": [
      "5\n"
     ]
    }
   ],
   "source": [
    "print(5)"
   ]
  },
  {
   "cell_type": "code",
   "execution_count": 27,
   "id": "83af6096-c5be-4c1f-adff-532faff8b899",
   "metadata": {},
   "outputs": [
    {
     "name": "stdout",
     "output_type": "stream",
     "text": [
      "6\n"
     ]
    }
   ],
   "source": [
    "print(2*3)"
   ]
  },
  {
   "cell_type": "code",
   "execution_count": null,
   "id": "cbd1b6d0-b43f-4d55-b2b4-1487d6fb0b1e",
   "metadata": {},
   "outputs": [],
   "source": [
    "#comment,print,escape sequence "
   ]
  },
  {
   "cell_type": "code",
   "execution_count": 31,
   "id": "1be6aefa-9450-412b-a772-6d9b7a5a3e56",
   "metadata": {},
   "outputs": [
    {
     "name": "stdout",
     "output_type": "stream",
     "text": [
      "im a good boy and he is also\n"
     ]
    }
   ],
   "source": [
    "print(\"im a good boy and he is also\")"
   ]
  },
  {
   "cell_type": "code",
   "execution_count": null,
   "id": "f08c680b-6df9-4c6c-8c73-1dfa4b8cb20f",
   "metadata": {},
   "outputs": [],
   "source": [
    "# \\n escape sequence :insertion of a charactor on a string"
   ]
  },
  {
   "cell_type": "code",
   "execution_count": null,
   "id": "de25db1c-ce35-4c0d-878b-df87168106b1",
   "metadata": {},
   "outputs": [],
   "source": [
    "#comment :they will not execute,this can be used to explain a code"
   ]
  },
  {
   "cell_type": "code",
   "execution_count": 1,
   "id": "d77cf814-ef6b-4949-9f1b-05aec3a63ba8",
   "metadata": {},
   "outputs": [
    {
     "name": "stdout",
     "output_type": "stream",
     "text": [
      "hello world!!!\n"
     ]
    }
   ],
   "source": [
    "print(\"hello world!!!\")"
   ]
  },
  {
   "cell_type": "code",
   "execution_count": 3,
   "id": "b7eef1e9-df22-450c-8e52-858584fb6f61",
   "metadata": {},
   "outputs": [
    {
     "name": "stdout",
     "output_type": "stream",
     "text": [
      "hey i am \"good boy\"\n",
      " and this viewer is also a good boy/girl\n"
     ]
    }
   ],
   "source": [
    "print(\"hey i am \\\"good boy\\\"\\n and this viewer is also a good boy/girl\")"
   ]
  },
  {
   "cell_type": "code",
   "execution_count": 17,
   "id": "54300551-b895-40c2-ae5e-5582cbf38b98",
   "metadata": {},
   "outputs": [
    {
     "name": "stdout",
     "output_type": "stream",
     "text": [
      "hey~6~7009\n",
      "herry\n"
     ]
    }
   ],
   "source": [
    "print(\"hey\",6,7,sep=\"~\",end=\"009\\n\")\n",
    "print(\"herry\")"
   ]
  },
  {
   "cell_type": "code",
   "execution_count": 41,
   "id": "fc86b179-d5c2-4938-adc0-6acd1e471dbd",
   "metadata": {},
   "outputs": [
    {
     "name": "stdout",
     "output_type": "stream",
     "text": [
      "125566 True harry\n"
     ]
    }
   ],
   "source": [
    "#variables:it like a container to hold dalta ,creating an place holder in memory and assigning some values\n",
    "a=125566\n",
    "b=True\n",
    "c=\"harry\"\n",
    "\n",
    "print(a,b,c)\n"
   ]
  },
  {
   "cell_type": "code",
   "execution_count": 31,
   "id": "69837d05-6f50-4131-b42e-5dbd67ee0af2",
   "metadata": {},
   "outputs": [
    {
     "name": "stdout",
     "output_type": "stream",
     "text": [
      "9\n"
     ]
    }
   ],
   "source": [
    "hurry=9\n",
    "b=hurry\n",
    "print(b)"
   ]
  },
  {
   "cell_type": "code",
   "execution_count": 33,
   "id": "242bb0b6-cd26-4a06-ab19-10fa8b1d1138",
   "metadata": {},
   "outputs": [
    {
     "data": {
      "text/plain": [
       "int"
      ]
     },
     "execution_count": 33,
     "metadata": {},
     "output_type": "execute_result"
    }
   ],
   "source": [
    "#data type:type of data the variable will store.it is used to perform various operation without causing an error\n",
    "type(a)"
   ]
  },
  {
   "cell_type": "code",
   "execution_count": 37,
   "id": "80b2c9ed-8a6d-46b6-913f-6a2672da96c7",
   "metadata": {},
   "outputs": [
    {
     "name": "stdout",
     "output_type": "stream",
     "text": [
      "type of a : <class 'int'>\n"
     ]
    }
   ],
   "source": [
    "print(\"type of a :\",type(a))"
   ]
  },
  {
   "cell_type": "code",
   "execution_count": 39,
   "id": "d0912e15-d070-4917-9fc5-fab072ec76fb",
   "metadata": {},
   "outputs": [
    {
     "name": "stdout",
     "output_type": "stream",
     "text": [
      "type of b : <class 'int'>\n"
     ]
    }
   ],
   "source": [
    "print(\"type of b :\",type(b))"
   ]
  },
  {
   "cell_type": "code",
   "execution_count": 43,
   "id": "62bef873-db57-47c0-9126-84a7beda7703",
   "metadata": {},
   "outputs": [
    {
     "name": "stdout",
     "output_type": "stream",
     "text": [
      "type of c: <class 'str'>\n"
     ]
    }
   ],
   "source": [
    "print(\"type of c:\",type(c))"
   ]
  },
  {
   "cell_type": "code",
   "execution_count": 47,
   "id": "6621995b-6ddc-452e-9da7-41b375f4af43",
   "metadata": {},
   "outputs": [
    {
     "name": "stdout",
     "output_type": "stream",
     "text": [
      "(4+7j)\n"
     ]
    },
    {
     "data": {
      "text/plain": [
       "complex"
      ]
     },
     "execution_count": 47,
     "metadata": {},
     "output_type": "execute_result"
    }
   ],
   "source": [
    "# numeric data : int,float ,complex,dictionary\n",
    " d=complex(4,7)   #complex number\n",
    "print(d)\n",
    "type(d)"
   ]
  },
  {
   "cell_type": "code",
   "execution_count": null,
   "id": "0c898dbf-204c-4800-9723-c867b336e002",
   "metadata": {},
   "outputs": [],
   "source": [
    "# sequence data :list,tuple\n",
    "#list\n",
    "#collection of different data type called list\n",
    "# it is muttable\n",
    "# []"
   ]
  },
  {
   "cell_type": "code",
   "execution_count": 51,
   "id": "b4111143-4c5c-46db-b756-a62fe7a1b768",
   "metadata": {},
   "outputs": [
    {
     "name": "stdout",
     "output_type": "stream",
     "text": [
      "['spoo', ['spoo,ubed'], 3, 'a', 2.3]\n"
     ]
    }
   ],
   "source": [
    "list=['spoo',['spoo,ubed'],3,\"a\",2.3]\n",
    "print(list)"
   ]
  },
  {
   "cell_type": "code",
   "execution_count": null,
   "id": "59b8fcf9-4bc7-4be6-8ea4-f79d7c9570af",
   "metadata": {},
   "outputs": [],
   "source": [
    "# tuple\n",
    "#()\n",
    "#immutable\n",
    "#same as that of list"
   ]
  },
  {
   "cell_type": "code",
   "execution_count": 53,
   "id": "b87a20a1-548c-489a-a389-bf054115507b",
   "metadata": {},
   "outputs": [
    {
     "name": "stdout",
     "output_type": "stream",
     "text": [
      "(2, 'spoo', 2.5)\n"
     ]
    }
   ],
   "source": [
    "a=(2,\"spoo\",2.5)\n",
    "print(a)"
   ]
  },
  {
   "cell_type": "code",
   "execution_count": null,
   "id": "6aec805b-7f34-4602-901c-f1fa48ad8527",
   "metadata": {},
   "outputs": [],
   "source": [
    "#dictionary\n",
    "#mutable\n",
    "#key:values\n",
    "#{}"
   ]
  },
  {
   "cell_type": "code",
   "execution_count": 55,
   "id": "253bf20f-1569-4f3f-a3ee-06655fb4c14e",
   "metadata": {},
   "outputs": [
    {
     "name": "stdout",
     "output_type": "stream",
     "text": [
      "{'name': 'spoo', 'love': 'ubed', 'paapa': 'krish'}\n"
     ]
    }
   ],
   "source": [
    "dict={\"name\":\"spoo\",\"love\":\"ubed\",\"paapa\":\"krish\"}\n",
    "print(dict)"
   ]
  },
  {
   "cell_type": "code",
   "execution_count": null,
   "id": "12575bd3-b900-48a1-8db4-9ac6452c46d1",
   "metadata": {},
   "outputs": [],
   "source": [
    "#operator\n",
    "#different type of operator used in different operation"
   ]
  },
  {
   "cell_type": "code",
   "execution_count": 67,
   "id": "195f2cef-fd84-40a6-bd50-a2db475ba207",
   "metadata": {},
   "outputs": [
    {
     "name": "stdout",
     "output_type": "stream",
     "text": [
      "11\n",
      "30\n",
      "-1\n",
      "2.5\n",
      "2\n",
      "3\n",
      "15625\n"
     ]
    }
   ],
   "source": [
    "print(5+6)\n",
    "print(5*6)\n",
    "print(5-6)\n",
    "print(15/6)\n",
    "print(15//6)  # floor division\n",
    "print(15%6)\n",
    "print(5**6)"
   ]
  },
  {
   "cell_type": "code",
   "execution_count": 79,
   "id": "64cb55c2-0f39-47bf-8ec5-8e754dd77a12",
   "metadata": {},
   "outputs": [
    {
     "name": "stdout",
     "output_type": "stream",
     "text": [
      "the value of  50 + 3 is: 53\n",
      "the value of  50 - 3 is: 47\n",
      "the value of  50 * 3 is: 150\n",
      "the value of  50 / 3 is: 16.666666666666668\n",
      "the value of  50 // 3 is: 16\n"
     ]
    }
   ],
   "source": [
    "\n",
    "a=50\n",
    "b=3\n",
    "print(\"the value of \",a,\"+\",3,\"is:\",a+b)\n",
    "print(\"the value of \",a,\"-\",3,\"is:\",a-b)\n",
    "print(\"the value of \",a,\"*\",3,\"is:\",a*b)\n",
    "print(\"the value of \",a,\"/\",3,\"is:\",a/b)\n",
    "print(\"the value of \",a,\"//\",3,\"is:\",a//b)"
   ]
  },
  {
   "cell_type": "code",
   "execution_count": null,
   "id": "d22ac627-60fc-4e93-9334-98ce70febc30",
   "metadata": {},
   "outputs": [],
   "source": [
    "#create calculator\n"
   ]
  },
  {
   "cell_type": "code",
   "execution_count": 83,
   "id": "dd84373d-2154-42ed-8345-31fe7b88a7c8",
   "metadata": {},
   "outputs": [
    {
     "name": "stdout",
     "output_type": "stream",
     "text": [
      "32\n"
     ]
    }
   ],
   "source": [
    "#type casting:convertion data from one date type to another data type\n",
    "#1.explicit conversion :here programmer will convert one form of data type to another,it can be done by using python built in function int(),float(),hex(),oct(),str(),\n",
    "#2.implicit conversion :automatically convert one form of data type into another\n",
    "a=\"3\"\n",
    "b=\"2\"\n",
    "print(a+b)"
   ]
  },
  {
   "cell_type": "code",
   "execution_count": 87,
   "id": "5e1c1c64-b283-48a5-a4e8-31d2bbeaa8b4",
   "metadata": {},
   "outputs": [
    {
     "name": "stdout",
     "output_type": "stream",
     "text": [
      "5\n"
     ]
    }
   ],
   "source": [
    "print(int(a)+int(b))  # explicit conversion 1."
   ]
  },
  {
   "cell_type": "code",
   "execution_count": 91,
   "id": "3dfaef43-0c55-43a7-ba4e-973780c6b86c",
   "metadata": {},
   "outputs": [
    {
     "name": "stdout",
     "output_type": "stream",
     "text": [
      "22\n"
     ]
    }
   ],
   "source": [
    "string=\"15\"\n",
    "number=7                         #2.explicit conversion\n",
    "string_number=int(string)\n",
    "sum=string_number+number\n",
    "print(sum)\n"
   ]
  },
  {
   "cell_type": "code",
   "execution_count": 93,
   "id": "8b6a6c2c-389c-45ef-96af-474942968722",
   "metadata": {},
   "outputs": [
    {
     "name": "stdout",
     "output_type": "stream",
     "text": [
      "10.9\n"
     ]
    }
   ],
   "source": [
    "#implicit conversion example 1: conversion is based on order where lower data typr is converted into higher data type to prevent data loss\n",
    "c=1.9\n",
    "d=9\n",
    "print(c+d)\n"
   ]
  },
  {
   "cell_type": "code",
   "execution_count": 99,
   "id": "9a06106e-2b67-4af1-ae84-c56a7ae1241b",
   "metadata": {},
   "outputs": [
    {
     "name": "stdin",
     "output_type": "stream",
     "text": [
      "enter input: 8\n"
     ]
    }
   ],
   "source": [
    "#user input:we can directly take an input from user using an input() function\n",
    "a=int(input(\"enter input:\"))"
   ]
  },
  {
   "cell_type": "code",
   "execution_count": 101,
   "id": "78d208e1-f423-4350-8f50-77098440747f",
   "metadata": {},
   "outputs": [
    {
     "name": "stdin",
     "output_type": "stream",
     "text": [
      "enter your name spoo\n"
     ]
    },
    {
     "name": "stdout",
     "output_type": "stream",
     "text": [
      "my name is : spoo\n"
     ]
    }
   ],
   "source": [
    "a=input(\"enter your name\")\n",
    "print(\"my name is :\",a)"
   ]
  },
  {
   "cell_type": "code",
   "execution_count": 113,
   "id": "97222f1b-692b-4fa7-99cf-67cf8ff7cd2a",
   "metadata": {},
   "outputs": [
    {
     "name": "stdin",
     "output_type": "stream",
     "text": [
      "enter first number: 2\n",
      "enter second number 3\n"
     ]
    },
    {
     "name": "stdout",
     "output_type": "stream",
     "text": [
      "5\n"
     ]
    }
   ],
   "source": [
    "x=int(input(\"enter first number:\"))     #  in default it consider as a string\n",
    "y=int(input(\"enter second number\"))\n",
    "print(x+y)"
   ]
  },
  {
   "cell_type": "code",
   "execution_count": 115,
   "id": "290d5fda-54eb-4e6f-a07a-317d0acdd2ee",
   "metadata": {},
   "outputs": [
    {
     "name": "stdin",
     "output_type": "stream",
     "text": [
      "enter first number: 3\n",
      "enter second number 4\n"
     ]
    },
    {
     "name": "stdout",
     "output_type": "stream",
     "text": [
      "7\n"
     ]
    }
   ],
   "source": [
    "x=(input(\"enter first number:\"))     #  in default it consider as a string\n",
    "y=(input(\"enter second number\"))\n",
    "print(int(x)+int(y))"
   ]
  },
  {
   "cell_type": "code",
   "execution_count": 121,
   "id": "9d8b708d-1550-4223-aeb3-20880657c15f",
   "metadata": {},
   "outputs": [
    {
     "name": "stdin",
     "output_type": "stream",
     "text": [
      "enter first number: 89\n",
      "enter second number spoo\n"
     ]
    },
    {
     "name": "stdout",
     "output_type": "stream",
     "text": [
      "89spoo\n"
     ]
    }
   ],
   "source": [
    "x=input(\"enter first number:\")   #  in default it consider as a string\n",
    "y=input(\"enter second number\")\n",
    "print(x+y)"
   ]
  },
  {
   "cell_type": "code",
   "execution_count": null,
   "id": "52054fab-0890-4308-9bce-a51eae22b327",
   "metadata": {},
   "outputs": [],
   "source": [
    "#string:   \"\"\n",
    "#anything that enclosed in double quotes and single quotes\n",
    "\n",
    "\n"
   ]
  },
  {
   "cell_type": "code",
   "execution_count": 133,
   "id": "8af6134a-1893-4c6a-9032-e16261efe663",
   "metadata": {},
   "outputs": [
    {
     "name": "stdout",
     "output_type": "stream",
     "text": [
      "spoo    ECE\"electronics and communication    MCE\n"
     ]
    }
   ],
   "source": [
    "name=\"spoo\"\n",
    "branch=\"ECE\\\"electronics and communication\"\n",
    "collage=\"MCE\"\n",
    "print(name,\"  \",branch,\"  \",collage)"
   ]
  },
  {
   "cell_type": "code",
   "execution_count": 135,
   "id": "8e390b95-f4cc-41b8-9b95-5fe7481670b8",
   "metadata": {},
   "outputs": [
    {
     "data": {
      "text/plain": [
       "'name=\"spoo\"\\nbranch=\"ECE\"electronics and communication\"\\ncollage=\"MCE\"\\nprint(name,\"  \",branch,\"  \",collage)'"
      ]
     },
     "execution_count": 135,
     "metadata": {},
     "output_type": "execute_result"
    }
   ],
   "source": [
    "name=\"spoo\"\n",
    "branch=\"ECE\\\"electronics and communication\"\n",
    "collage=\"MCE\"\n",
    "print(name,\"  \",branch,\"  \",collage)"
   ]
  },
  {
   "cell_type": "code",
   "execution_count": 145,
   "id": "f655b566-21b1-475b-80be-688db3811ec9",
   "metadata": {},
   "outputs": [
    {
     "name": "stdout",
     "output_type": "stream",
     "text": [
      "u\n",
      "b\n",
      "e\n",
      "d\n"
     ]
    }
   ],
   "source": [
    "name=\"ubed\"\n",
    "print(name[0])\n",
    "print(name[1])\n",
    "print(name[2])\n",
    "print(name[3])\n"
   ]
  },
  {
   "cell_type": "code",
   "execution_count": 149,
   "id": "493561ec-fbdf-4987-8b9b-7e8651f5a807",
   "metadata": {},
   "outputs": [
    {
     "name": "stdout",
     "output_type": "stream",
     "text": [
      "u\n",
      "b\n",
      "e\n",
      "d\n"
     ]
    }
   ],
   "source": [
    "name=\"ubed\"\n",
    "for i in name:\n",
    "    print(i)"
   ]
  },
  {
   "cell_type": "code",
   "execution_count": 155,
   "id": "cd94746f-44f4-4977-bb4e-26711a70da16",
   "metadata": {},
   "outputs": [
    {
     "name": "stdout",
     "output_type": "stream",
     "text": [
      "poo\n"
     ]
    }
   ],
   "source": [
    "#string slicing\n",
    "name=\"spoorthi,prasad\"\n",
    "print(name[1:4])"
   ]
  },
  {
   "cell_type": "code",
   "execution_count": 157,
   "id": "fc0b9d2e-6051-4f11-9d56-20494ebae0fd",
   "metadata": {},
   "outputs": [
    {
     "data": {
      "text/plain": [
       "15"
      ]
     },
     "execution_count": 157,
     "metadata": {},
     "output_type": "execute_result"
    }
   ],
   "source": [
    "len(name)"
   ]
  },
  {
   "cell_type": "code",
   "execution_count": 153,
   "id": "999960fb-1bb4-4e1c-aef7-5bf05ffea586",
   "metadata": {},
   "outputs": [
    {
     "data": {
      "text/plain": [
       "['__add__',\n",
       " '__class__',\n",
       " '__contains__',\n",
       " '__delattr__',\n",
       " '__dir__',\n",
       " '__doc__',\n",
       " '__eq__',\n",
       " '__format__',\n",
       " '__ge__',\n",
       " '__getattribute__',\n",
       " '__getitem__',\n",
       " '__getnewargs__',\n",
       " '__getstate__',\n",
       " '__gt__',\n",
       " '__hash__',\n",
       " '__init__',\n",
       " '__init_subclass__',\n",
       " '__iter__',\n",
       " '__le__',\n",
       " '__len__',\n",
       " '__lt__',\n",
       " '__mod__',\n",
       " '__mul__',\n",
       " '__ne__',\n",
       " '__new__',\n",
       " '__reduce__',\n",
       " '__reduce_ex__',\n",
       " '__repr__',\n",
       " '__rmod__',\n",
       " '__rmul__',\n",
       " '__setattr__',\n",
       " '__sizeof__',\n",
       " '__str__',\n",
       " '__subclasshook__',\n",
       " 'capitalize',\n",
       " 'casefold',\n",
       " 'center',\n",
       " 'count',\n",
       " 'encode',\n",
       " 'endswith',\n",
       " 'expandtabs',\n",
       " 'find',\n",
       " 'format',\n",
       " 'format_map',\n",
       " 'index',\n",
       " 'isalnum',\n",
       " 'isalpha',\n",
       " 'isascii',\n",
       " 'isdecimal',\n",
       " 'isdigit',\n",
       " 'isidentifier',\n",
       " 'islower',\n",
       " 'isnumeric',\n",
       " 'isprintable',\n",
       " 'isspace',\n",
       " 'istitle',\n",
       " 'isupper',\n",
       " 'join',\n",
       " 'ljust',\n",
       " 'lower',\n",
       " 'lstrip',\n",
       " 'maketrans',\n",
       " 'partition',\n",
       " 'removeprefix',\n",
       " 'removesuffix',\n",
       " 'replace',\n",
       " 'rfind',\n",
       " 'rindex',\n",
       " 'rjust',\n",
       " 'rpartition',\n",
       " 'rsplit',\n",
       " 'rstrip',\n",
       " 'split',\n",
       " 'splitlines',\n",
       " 'startswith',\n",
       " 'strip',\n",
       " 'swapcase',\n",
       " 'title',\n",
       " 'translate',\n",
       " 'upper',\n",
       " 'zfill']"
      ]
     },
     "execution_count": 153,
     "metadata": {},
     "output_type": "execute_result"
    }
   ],
   "source": [
    "dir(str)"
   ]
  },
  {
   "cell_type": "code",
   "execution_count": 159,
   "id": "01f31ff0-915b-4eb3-aaaa-eeaae9ad0349",
   "metadata": {},
   "outputs": [
    {
     "data": {
      "text/plain": [
       "8"
      ]
     },
     "execution_count": 159,
     "metadata": {},
     "output_type": "execute_result"
    }
   ],
   "source": [
    "len(\"spoorthi\")"
   ]
  },
  {
   "cell_type": "code",
   "execution_count": 161,
   "id": "f91499d7-b3f1-4dc0-85aa-100dc94d281c",
   "metadata": {},
   "outputs": [
    {
     "name": "stdout",
     "output_type": "stream",
     "text": [
      "spoort\n"
     ]
    }
   ],
   "source": [
    "print(name[:6])"
   ]
  },
  {
   "cell_type": "code",
   "execution_count": 163,
   "id": "7086ece6-c8f4-4dd1-87af-ad77f971701e",
   "metadata": {},
   "outputs": [
    {
     "name": "stdout",
     "output_type": "stream",
     "text": [
      "spoorthi,prasad\n"
     ]
    }
   ],
   "source": [
    "print(name[:])"
   ]
  },
  {
   "cell_type": "code",
   "execution_count": 167,
   "id": "7cf9bdd6-dcd9-42f1-9e40-3c05bcfded3d",
   "metadata": {},
   "outputs": [
    {
     "name": "stdout",
     "output_type": "stream",
     "text": [
      "spoorthi,p\n"
     ]
    }
   ],
   "source": [
    "print(name[:-5])   # remove the  element from laast"
   ]
  },
  {
   "cell_type": "code",
   "execution_count": 187,
   "id": "20677713-2257-47d9-8c29-e315c0a38313",
   "metadata": {},
   "outputs": [
    {
     "name": "stdout",
     "output_type": "stream",
     "text": [
      "a\n"
     ]
    }
   ],
   "source": [
    "print(name[-2:-1])"
   ]
  },
  {
   "cell_type": "code",
   "execution_count": 177,
   "id": "12dd3b52-0eff-4f28-874d-f6b92877010d",
   "metadata": {},
   "outputs": [
    {
     "data": {
      "text/plain": [
       "6"
      ]
     },
     "execution_count": 177,
     "metadata": {},
     "output_type": "execute_result"
    }
   ],
   "source": [
    "num=[1,2,3,4,5,6]\n",
    "len(num)"
   ]
  },
  {
   "cell_type": "code",
   "execution_count": 179,
   "id": "177055cd-367b-437a-aa48-d496e7e8dbe7",
   "metadata": {},
   "outputs": [
    {
     "data": {
      "text/plain": [
       "list"
      ]
     },
     "execution_count": 179,
     "metadata": {},
     "output_type": "execute_result"
    }
   ],
   "source": [
    "type(num)"
   ]
  },
  {
   "cell_type": "code",
   "execution_count": 181,
   "id": "4beb1b9b-d273-4608-b24f-57a49399d6df",
   "metadata": {},
   "outputs": [
    {
     "name": "stdout",
     "output_type": "stream",
     "text": [
      "[1, 3, 5]\n"
     ]
    }
   ],
   "source": [
    "print(num[::2])"
   ]
  },
  {
   "cell_type": "code",
   "execution_count": 189,
   "id": "ce707502-0d2a-45f8-a8e6-67dfbc782509",
   "metadata": {},
   "outputs": [
    {
     "name": "stdout",
     "output_type": "stream",
     "text": [
      "ar\n"
     ]
    }
   ],
   "source": [
    "#Quick Quiz\n",
    "na=\"harry\"\n",
    "print(na[-4:-2])"
   ]
  },
  {
   "cell_type": "code",
   "execution_count": 1,
   "id": "fd97022d-60b2-46c2-a1ef-229820316fc1",
   "metadata": {},
   "outputs": [
    {
     "data": {
      "text/plain": [
       "[2, 4, 67, 89, 56, 87]"
      ]
     },
     "execution_count": 1,
     "metadata": {},
     "output_type": "execute_result"
    }
   ],
   "source": [
    "list=[2,4,67,89,56,87]\n",
    "list"
   ]
  },
  {
   "cell_type": "code",
   "execution_count": 3,
   "id": "4a1fd7f5-4db7-41fa-8624-406886d10dd4",
   "metadata": {},
   "outputs": [
    {
     "data": {
      "text/plain": [
       "['__add__',\n",
       " '__class__',\n",
       " '__contains__',\n",
       " '__delattr__',\n",
       " '__dir__',\n",
       " '__doc__',\n",
       " '__eq__',\n",
       " '__format__',\n",
       " '__ge__',\n",
       " '__getattribute__',\n",
       " '__getitem__',\n",
       " '__getnewargs__',\n",
       " '__getstate__',\n",
       " '__gt__',\n",
       " '__hash__',\n",
       " '__init__',\n",
       " '__init_subclass__',\n",
       " '__iter__',\n",
       " '__le__',\n",
       " '__len__',\n",
       " '__lt__',\n",
       " '__mod__',\n",
       " '__mul__',\n",
       " '__ne__',\n",
       " '__new__',\n",
       " '__reduce__',\n",
       " '__reduce_ex__',\n",
       " '__repr__',\n",
       " '__rmod__',\n",
       " '__rmul__',\n",
       " '__setattr__',\n",
       " '__sizeof__',\n",
       " '__str__',\n",
       " '__subclasshook__',\n",
       " 'capitalize',\n",
       " 'casefold',\n",
       " 'center',\n",
       " 'count',\n",
       " 'encode',\n",
       " 'endswith',\n",
       " 'expandtabs',\n",
       " 'find',\n",
       " 'format',\n",
       " 'format_map',\n",
       " 'index',\n",
       " 'isalnum',\n",
       " 'isalpha',\n",
       " 'isascii',\n",
       " 'isdecimal',\n",
       " 'isdigit',\n",
       " 'isidentifier',\n",
       " 'islower',\n",
       " 'isnumeric',\n",
       " 'isprintable',\n",
       " 'isspace',\n",
       " 'istitle',\n",
       " 'isupper',\n",
       " 'join',\n",
       " 'ljust',\n",
       " 'lower',\n",
       " 'lstrip',\n",
       " 'maketrans',\n",
       " 'partition',\n",
       " 'removeprefix',\n",
       " 'removesuffix',\n",
       " 'replace',\n",
       " 'rfind',\n",
       " 'rindex',\n",
       " 'rjust',\n",
       " 'rpartition',\n",
       " 'rsplit',\n",
       " 'rstrip',\n",
       " 'split',\n",
       " 'splitlines',\n",
       " 'startswith',\n",
       " 'strip',\n",
       " 'swapcase',\n",
       " 'title',\n",
       " 'translate',\n",
       " 'upper',\n",
       " 'zfill']"
      ]
     },
     "execution_count": 3,
     "metadata": {},
     "output_type": "execute_result"
    }
   ],
   "source": [
    "dir(str)"
   ]
  },
  {
   "cell_type": "code",
   "execution_count": 7,
   "id": "c382c0cf-54ce-4b68-b7bc-71c7193fb991",
   "metadata": {},
   "outputs": [
    {
     "data": {
      "text/plain": [
       "8"
      ]
     },
     "execution_count": 7,
     "metadata": {},
     "output_type": "execute_result"
    }
   ],
   "source": [
    "a=\"spoorthi\"   #strings are immutable \n",
    "len(a)"
   ]
  },
  {
   "cell_type": "code",
   "execution_count": 9,
   "id": "0825f707-01c8-42ab-9b4e-9e992f9d8b19",
   "metadata": {},
   "outputs": [
    {
     "data": {
      "text/plain": [
       "'SPOORTHI'"
      ]
     },
     "execution_count": 9,
     "metadata": {},
     "output_type": "execute_result"
    }
   ],
   "source": [
    "a.upper()"
   ]
  },
  {
   "cell_type": "code",
   "execution_count": 11,
   "id": "ed33ee8a-7e07-4b32-a031-392d8f9b8281",
   "metadata": {},
   "outputs": [
    {
     "data": {
      "text/plain": [
       "'spoorthi'"
      ]
     },
     "execution_count": 11,
     "metadata": {},
     "output_type": "execute_result"
    }
   ],
   "source": [
    "a.lower()"
   ]
  },
  {
   "cell_type": "code",
   "execution_count": 29,
   "id": "d7eb8c9b-4fb8-40f7-abe6-8d277c85c393",
   "metadata": {},
   "outputs": [
    {
     "name": "stdout",
     "output_type": "stream",
     "text": [
      "spoorthi\n"
     ]
    }
   ],
   "source": [
    "print(b.rstrip(\"!\"))"
   ]
  },
  {
   "cell_type": "code",
   "execution_count": 27,
   "id": "123fb1a5-90e2-451c-b7ee-eb009035f399",
   "metadata": {},
   "outputs": [],
   "source": [
    "b=\"spoorthi!\""
   ]
  },
  {
   "cell_type": "code",
   "execution_count": 31,
   "id": "f5d2b7bd-e4d5-41fd-ada4-7e7af7b340c1",
   "metadata": {},
   "outputs": [
    {
     "data": {
      "text/plain": [
       "'ubed'"
      ]
     },
     "execution_count": 31,
     "metadata": {},
     "output_type": "execute_result"
    }
   ],
   "source": [
    "a.replace(\"spoorthi\",\"ubed\")"
   ]
  },
  {
   "cell_type": "code",
   "execution_count": 35,
   "id": "5bc3962e-5bc9-492d-bfe6-7079f0ed0cde",
   "metadata": {},
   "outputs": [
    {
     "data": {
      "text/plain": [
       "['spoorthi']"
      ]
     },
     "execution_count": 35,
     "metadata": {},
     "output_type": "execute_result"
    }
   ],
   "source": [
    "a.split(\" \")"
   ]
  },
  {
   "cell_type": "code",
   "execution_count": 39,
   "id": "ae755ec7-3793-44e9-89b4-603d75c14492",
   "metadata": {},
   "outputs": [],
   "source": [
    "a=(\"my name is spoorthi\")"
   ]
  },
  {
   "cell_type": "code",
   "execution_count": 41,
   "id": "17c6e900-f569-40e6-82cd-f4e8fb008e4a",
   "metadata": {},
   "outputs": [
    {
     "data": {
      "text/plain": [
       "'My name is spoorthi'"
      ]
     },
     "execution_count": 41,
     "metadata": {},
     "output_type": "execute_result"
    }
   ],
   "source": [
    "a.capitalize()"
   ]
  },
  {
   "cell_type": "code",
   "execution_count": 43,
   "id": "28572e15-618c-403e-943e-a307737f087d",
   "metadata": {},
   "outputs": [
    {
     "data": {
      "text/plain": [
       "'My Name Is Spoorthi'"
      ]
     },
     "execution_count": 43,
     "metadata": {},
     "output_type": "execute_result"
    }
   ],
   "source": [
    "a.title()"
   ]
  },
  {
   "cell_type": "code",
   "execution_count": 55,
   "id": "468f228c-0a25-4175-93e9-de91cd4a9c2b",
   "metadata": {},
   "outputs": [
    {
     "name": "stdout",
     "output_type": "stream",
     "text": [
      "     my name is spoorthi      \n"
     ]
    }
   ],
   "source": [
    "print(a.center(30))   # initially it gives an place "
   ]
  },
  {
   "cell_type": "code",
   "execution_count": 57,
   "id": "02524f39-e37c-4bcd-8735-fd7d4d9cbbc2",
   "metadata": {},
   "outputs": [
    {
     "data": {
      "text/plain": [
       "1"
      ]
     },
     "execution_count": 57,
     "metadata": {},
     "output_type": "execute_result"
    }
   ],
   "source": [
    "a.count(\"my\")"
   ]
  },
  {
   "cell_type": "code",
   "execution_count": 67,
   "id": "109879ef-5a3c-491d-9181-84581e75af39",
   "metadata": {},
   "outputs": [
    {
     "data": {
      "text/plain": [
       "True"
      ]
     },
     "execution_count": 67,
     "metadata": {},
     "output_type": "execute_result"
    }
   ],
   "source": [
    "a.endswith(\"i\")"
   ]
  },
  {
   "cell_type": "code",
   "execution_count": 107,
   "id": "953d4609-a4db-4254-a3db-77405b8d3946",
   "metadata": {},
   "outputs": [],
   "source": [
    "c=\"im a student from a malnad im\""
   ]
  },
  {
   "cell_type": "code",
   "execution_count": 83,
   "id": "3ad1314a-7fcc-4ada-a5ca-07de3ef350eb",
   "metadata": {},
   "outputs": [
    {
     "data": {
      "text/plain": [
       "False"
      ]
     },
     "execution_count": 83,
     "metadata": {},
     "output_type": "execute_result"
    }
   ],
   "source": [
    "c.endswith(\"to\",3,10)"
   ]
  },
  {
   "cell_type": "code",
   "execution_count": 89,
   "id": "2314539d-b019-4b73-8381-b0f6aa75e72a",
   "metadata": {},
   "outputs": [
    {
     "data": {
      "text/plain": [
       "3"
      ]
     },
     "execution_count": 89,
     "metadata": {},
     "output_type": "execute_result"
    }
   ],
   "source": [
    "c.find(\"a\")"
   ]
  },
  {
   "cell_type": "code",
   "execution_count": 95,
   "id": "0c1723ff-38ab-484f-8ea0-a8f1af95a721",
   "metadata": {},
   "outputs": [
    {
     "data": {
      "text/plain": [
       "-1"
      ]
     },
     "execution_count": 95,
     "metadata": {},
     "output_type": "execute_result"
    }
   ],
   "source": [
    "c.find(\"ubed\")  #if not found then it gives an an index of -1"
   ]
  },
  {
   "cell_type": "code",
   "execution_count": 99,
   "id": "85bf24f0-f801-458c-bdc0-6d8a1e24e4d3",
   "metadata": {},
   "outputs": [
    {
     "data": {
      "text/plain": [
       "0"
      ]
     },
     "execution_count": 99,
     "metadata": {},
     "output_type": "execute_result"
    }
   ],
   "source": [
    "c.index(\"im\")"
   ]
  },
  {
   "cell_type": "code",
   "execution_count": 103,
   "id": "1acfdd09-3388-44dc-8f61-3f3b254e144b",
   "metadata": {},
   "outputs": [
    {
     "data": {
      "text/plain": [
       "False"
      ]
     },
     "execution_count": 103,
     "metadata": {},
     "output_type": "execute_result"
    }
   ],
   "source": [
    "c.isalnum()   # if any space are encountered   # it identify an value between A to Z ,a to z,0-9"
   ]
  },
  {
   "cell_type": "code",
   "execution_count": 109,
   "id": "49f4bbf6-9ead-49cc-a87c-2247deb01cc3",
   "metadata": {},
   "outputs": [
    {
     "data": {
      "text/plain": [
       "False"
      ]
     },
     "execution_count": 109,
     "metadata": {},
     "output_type": "execute_result"
    }
   ],
   "source": [
    "c.isalpha()"
   ]
  },
  {
   "cell_type": "code",
   "execution_count": 111,
   "id": "b3820bf4-a2f7-46ad-a00b-b87af2e18f9d",
   "metadata": {},
   "outputs": [
    {
     "data": {
      "text/plain": [
       "True"
      ]
     },
     "execution_count": 111,
     "metadata": {},
     "output_type": "execute_result"
    }
   ],
   "source": [
    "c.isprintable()"
   ]
  },
  {
   "cell_type": "code",
   "execution_count": 115,
   "id": "89009a87-2a48-4bce-989f-a016fb23ad24",
   "metadata": {},
   "outputs": [
    {
     "data": {
      "text/plain": [
       "False"
      ]
     },
     "execution_count": 115,
     "metadata": {},
     "output_type": "execute_result"
    }
   ],
   "source": [
    "c.startswith(\"a\")"
   ]
  },
  {
   "cell_type": "code",
   "execution_count": 147,
   "id": "ceda7e53-5550-42ab-b12d-4beb91ac1d3a",
   "metadata": {},
   "outputs": [
    {
     "name": "stdin",
     "output_type": "stream",
     "text": [
      "enter the age 21\n"
     ]
    },
    {
     "name": "stdout",
     "output_type": "stream",
     "text": [
      "ur age is: 21\n",
      "ur eligible to drive\n",
      "thank u dude\n"
     ]
    }
   ],
   "source": [
    "#conditional operators\n",
    "a=int(input(\"enter the age\"))\n",
    "print(\"ur age is:\",a)\n",
    "if(a>=18):\n",
    "    print(\"ur eligible to drive\")\n",
    "else:\n",
    "    print(\"not eligible to dive\")\n",
    "print(\"thank u dude\")"
   ]
  },
  {
   "cell_type": "code",
   "execution_count": 155,
   "id": "58876da8-fbd5-4594-a939-f24f56a7b854",
   "metadata": {},
   "outputs": [
    {
     "name": "stdin",
     "output_type": "stream",
     "text": [
      "enter the prize of apple: 300\n",
      "enter the budget: 300\n"
     ]
    },
    {
     "name": "stdout",
     "output_type": "stream",
     "text": [
      "the prize of apple 300\n",
      "budget u have 300\n",
      "buy the apple\n"
     ]
    }
   ],
   "source": [
    "apple=int(input(\"enter the prize of apple:\"))\n",
    "budget=int(input(\"enter the budget:\"))\n",
    "print(\"the prize of apple\",apple)\n",
    "print(\"budget u have\",budget)\n",
    "if apple<=budget:\n",
    "    print(\"buy the apple\")\n",
    "else:\n",
    "    print(\"donot buy an apple\")"
   ]
  },
  {
   "cell_type": "code",
   "execution_count": null,
   "id": "36907e2d-db36-4564-b85e-84e8a16ed60a",
   "metadata": {},
   "outputs": [],
   "source": []
  },
  {
   "cell_type": "code",
   "execution_count": 151,
   "id": "0fee9f82-1c6b-43a5-b54f-4115ba7fc2dc",
   "metadata": {},
   "outputs": [
    {
     "name": "stdout",
     "output_type": "stream",
     "text": [
      "donot buy an apple\n"
     ]
    }
   ],
   "source": [
    "apple=500\n",
    "budget=300\n",
    "if apple<=budget:\n",
    "    print(\"buy the apple\")\n",
    "else:\n",
    "    print(\"donot buy an apple\")"
   ]
  },
  {
   "cell_type": "code",
   "execution_count": 163,
   "id": "073b036e-03d2-4598-b223-7028457d3efc",
   "metadata": {},
   "outputs": [
    {
     "name": "stdout",
     "output_type": "stream",
     "text": [
      "u can easily buy an apple\n"
     ]
    }
   ],
   "source": [
    "apple=1000\n",
    "budget=4000\n",
    "if(budget-apple>500):\n",
    "    print(\"u can easily buy an apple\")    # if initial condition is true then no need of execute elif statement\n",
    "elif(budget-apple>1000):\n",
    "    print(\"may be u can buy an apple\")\n",
    "else:\n",
    "    print(\"no u vcvannot offered it\")"
   ]
  },
  {
   "cell_type": "code",
   "execution_count": 169,
   "id": "474712fe-5912-47b5-be86-c27edc903159",
   "metadata": {},
   "outputs": [
    {
     "name": "stdout",
     "output_type": "stream",
     "text": [
      "product of number 2\n",
      "product of number 6\n",
      "product of number 12\n",
      "product of number 20\n",
      "product of number 30\n",
      "product of number 42\n",
      "product of number 56\n",
      "product of number 72\n",
      "product of number 90\n"
     ]
    }
   ],
   "source": [
    "list=[1,2,3,4,5,6,7,8,9]\n",
    "for i in list:\n",
    "    print(\"product of number\",i*(i+1))"
   ]
  },
  {
   "cell_type": "code",
   "execution_count": 171,
   "id": "d99ffe89-e8e6-490b-8616-346dac2ab46b",
   "metadata": {},
   "outputs": [
    {
     "name": "stdin",
     "output_type": "stream",
     "text": [
      "enter the number 0\n"
     ]
    },
    {
     "name": "stdout",
     "output_type": "stream",
     "text": [
      "the number will be equal to zero\n"
     ]
    }
   ],
   "source": [
    "num=int(input(\"from the user\"))\n",
    "if(num>0):\n",
    "    print(\"entered number are positive\")\n",
    "elif(num==0):\n",
    "    print(\"the number will be equal to zero\")\n",
    "else:\n",
    "    print(\"the number will be negative\")"
   ]
  },
  {
   "cell_type": "code",
   "execution_count": 175,
   "id": "ffa55fa4-e9f4-42d3-af2e-72e291a5f8bc",
   "metadata": {},
   "outputs": [
    {
     "name": "stdin",
     "output_type": "stream",
     "text": [
      "enter the number 100\n"
     ]
    },
    {
     "name": "stdout",
     "output_type": "stream",
     "text": [
      "entered number are positive\n",
      "im happy\n"
     ]
    }
   ],
   "source": [
    "num=int(input(\"from the user\"))\n",
    "if(num>1):\n",
    "    print(\"entered number are positive\")\n",
    "elif(num==0):\n",
    "    print(\"the number will be equal to zero\")\n",
    "elif(num==1):\n",
    "    print(\"the number will be equal to one\")\n",
    "else:\n",
    "    print(\"the number will be negative\")\n",
    "print(\"im happy\")"
   ]
  },
  {
   "cell_type": "code",
   "execution_count": 181,
   "id": "6bf23ee6-5650-47b2-9dc0-f7b5a6fc0d27",
   "metadata": {},
   "outputs": [
    {
     "name": "stdin",
     "output_type": "stream",
     "text": [
      "from the user 0\n"
     ]
    },
    {
     "name": "stdout",
     "output_type": "stream",
     "text": [
      "number equal to 0\n"
     ]
    }
   ],
   "source": [
    "num=int(input(\"from the user\"))\n",
    "if(num<0):\n",
    "    print(\"u entered negatine number\")\n",
    "elif(num>0):\n",
    "    if(10<num<100):\n",
    "        print(\"the number in between 10 to 100\")\n",
    "    else:\n",
    "        print(\"the number is greatyer than 100\")\n",
    "else:\n",
    "    print(\"number equal to 0\")\n",
    "        "
   ]
  },
  {
   "cell_type": "code",
   "execution_count": 189,
   "id": "3bc9b545-ad9e-4e45-b35f-17fc24f9168c",
   "metadata": {},
   "outputs": [
    {
     "name": "stdin",
     "output_type": "stream",
     "text": [
      "enter the input: 12 59 60\n"
     ]
    },
    {
     "name": "stdout",
     "output_type": "stream",
     "text": [
      "20,53,58\n",
      "20\n",
      "53\n",
      "58\n"
     ]
    }
   ],
   "source": [
    "import time \n",
    "timmestamp=input(\"enter the input:\")\n",
    "timestamp=time.strftime(\"%H,%M,%S\")\n",
    "print(timestamp)\n",
    "timestamp=time.strftime(\"%H\")\n",
    "print(timestamp)\n",
    "timestamp=time.strftime(\"%M\")\n",
    "print(timestamp)\n",
    "timestamp=time.strftime(\"%S\")\n",
    "print(timestamp)\n",
    "\n"
   ]
  },
  {
   "cell_type": "code",
   "execution_count": 191,
   "id": "78930e91-10d3-4e67-85d0-777294795842",
   "metadata": {},
   "outputs": [
    {
     "name": "stdout",
     "output_type": "stream",
     "text": [
      "hello world from....\n"
     ]
    },
    {
     "data": {
      "text/plain": [
       "0"
      ]
     },
     "execution_count": 191,
     "metadata": {},
     "output_type": "execute_result"
    }
   ],
   "source": [
    "import os\n",
    "print(\"hello world from....\")\n",
    "os.system(\"python --version\")"
   ]
  },
  {
   "cell_type": "code",
   "execution_count": 201,
   "id": "aaf4fe3e-6c39-43b7-bbc4-b01ae14eebcb",
   "metadata": {},
   "outputs": [
    {
     "name": "stdout",
     "output_type": "stream",
     "text": [
      "case five will be printed\n"
     ]
    }
   ],
   "source": [
    "x=5\n",
    "match x:\n",
    "    case 0:\n",
    "        print(\"case zero is printed\")\n",
    "    case 1:\n",
    "        print(\"case one will be prinyted\")\n",
    "    case 5:\n",
    "        print(\"case five will be printed\")\n",
    "    case _:\n",
    "        print(\"default statement\")"
   ]
  },
  {
   "cell_type": "code",
   "execution_count": 217,
   "id": "3aff1d6f-6c33-4234-bd00-dd0b2ce76d20",
   "metadata": {},
   "outputs": [
    {
     "name": "stdout",
     "output_type": "stream",
     "text": [
      "x is equal to 20\n"
     ]
    }
   ],
   "source": [
    "x=20\n",
    "match x:\n",
    "    case 0:\n",
    "        print(\"case zero is printed\")\n",
    "    case 1:\n",
    "        print(\"case one will be prinyted\")\n",
    "    case 5:\n",
    "        print(\"case five will be printed\")\n",
    "    case _ if x==20:\n",
    "        print(\"x is equal to 20\")\n",
    "    case _ if x==10:\n",
    "        print(\"x is equal to 10\")\n",
    "    case _:\n",
    "        print(\"default statement\")\n",
    "        \n",
    "         "
   ]
  },
  {
   "cell_type": "code",
   "execution_count": 221,
   "id": "efa6205c-9244-4119-bd61-5e95279b5207",
   "metadata": {},
   "outputs": [
    {
     "name": "stdout",
     "output_type": "stream",
     "text": [
      "the epected values are: 100\n",
      "the epected values are: 101\n",
      "the epected values are: 102\n",
      "the epected values are: 103\n",
      "the epected values are: 104\n",
      "the epected values are: 105\n",
      "the epected values are: 106\n",
      "the epected values are: 107\n"
     ]
    }
   ],
   "source": [
    "# loop statement\n",
    "for i in range(100,108):\n",
    "    print(\"the epected values are:\",i)"
   ]
  },
  {
   "cell_type": "code",
   "execution_count": 239,
   "id": "4a327a2a-90b0-442d-8a4f-eee5faf84d47",
   "metadata": {},
   "outputs": [
    {
     "name": "stdout",
     "output_type": "stream",
     "text": [
      "s,s is found\n",
      "p,no letter found\n",
      "o,o is found\n",
      "o,o is found\n",
      "r,no letter found\n",
      "t,no letter found\n",
      "h,no letter found\n",
      "i,no letter found\n",
      " ,no letter found\n",
      "p,no letter found\n",
      "r,no letter found\n",
      "a,no letter found\n",
      "s,s is found\n",
      "a,no letter found\n",
      "d,no letter found\n"
     ]
    }
   ],
   "source": [
    "name=\"spoorthi prasad\"\n",
    "for i in name:\n",
    "    print(i,end=\",\")\n",
    "    if(i==\"s\"):\n",
    "        print(\"s is found\")\n",
    "    elif(i==\"o\"):\n",
    "        print(\"o is found\")\n",
    "    else:\n",
    "        print(\"no letter found\")\n"
   ]
  },
  {
   "cell_type": "code",
   "execution_count": 247,
   "id": "06f29f10-3993-4e45-aa39-4d2fc25b55f4",
   "metadata": {},
   "outputs": [
    {
     "name": "stdout",
     "output_type": "stream",
     "text": [
      "red colour found\n",
      "green is found\n",
      "['red', 'green', 'blue', 'orange']\n",
      "['red', 'green', 'blue', 'orange']\n"
     ]
    }
   ],
   "source": [
    "colors=['red','green','blue','orange']\n",
    "for i in colors:\n",
    "    if(i=='red'):\n",
    "        print(\"red colour found\")\n",
    "    elif(i=='green'):\n",
    "        print(\"green is found\")\n",
    "    else:\n",
    "        print(colors)"
   ]
  },
  {
   "cell_type": "code",
   "execution_count": 253,
   "id": "95c7d112-b02a-4372-9a90-877303dc59c5",
   "metadata": {},
   "outputs": [
    {
     "name": "stdout",
     "output_type": "stream",
     "text": [
      "red\n",
      "r\n",
      "e\n",
      "d\n",
      "green\n",
      "g\n",
      "r\n",
      "e\n",
      "e\n",
      "n\n",
      "blue\n",
      "b\n",
      "l\n",
      "u\n",
      "e\n",
      "orange\n",
      "o\n",
      "r\n",
      "a\n",
      "n\n",
      "g\n",
      "e\n"
     ]
    }
   ],
   "source": [
    "colors=['red','green','blue','orange']\n",
    "for colour in colors:\n",
    "    print(colour)\n",
    "    for i in colour:\n",
    "        print(i)"
   ]
  },
  {
   "cell_type": "code",
   "execution_count": 273,
   "id": "46ad48ca-87b2-42dc-886c-e3a5c283c084",
   "metadata": {},
   "outputs": [
    {
     "name": "stdout",
     "output_type": "stream",
     "text": [
      "10\n",
      "11\n",
      "12\n",
      "13\n",
      "14\n",
      "15\n",
      "16\n",
      "17\n",
      "18\n",
      "19\n",
      "20\n",
      "21\n",
      "22\n",
      "23\n",
      "24\n",
      "25\n",
      "26\n",
      "27\n",
      "28\n",
      "29\n",
      "30\n",
      "31\n",
      "32\n",
      "33\n",
      "34\n",
      "35\n",
      "36\n",
      "37\n",
      "38\n",
      "39\n",
      "40\n",
      "41\n",
      "42\n",
      "43\n",
      "44\n",
      "45\n",
      "46\n",
      "47\n",
      "48\n",
      "49\n",
      "50\n",
      "51\n",
      "52\n",
      "53\n",
      "54\n",
      "55\n",
      "56\n",
      "57\n",
      "58\n",
      "59\n",
      "60\n",
      "61\n",
      "62\n",
      "63\n",
      "64\n",
      "65\n",
      "66\n",
      "67\n",
      "68\n",
      "69\n",
      "70\n",
      "71\n",
      "72\n",
      "73\n",
      "74\n",
      "75\n",
      "76\n",
      "77\n",
      "78\n",
      "79\n",
      "80\n",
      "81\n",
      "82\n",
      "83\n",
      "84\n",
      "85\n",
      "86\n",
      "87\n",
      "88\n",
      "89\n",
      "90\n",
      "91\n",
      "92\n",
      "93\n",
      "94\n",
      "95\n",
      "96\n",
      "97\n",
      "98\n",
      "99\n",
      "100\n",
      "101\n",
      "102\n",
      "103\n",
      "104\n",
      "105\n",
      "106\n",
      "107\n",
      "108\n",
      "109\n",
      "110\n",
      "111\n",
      "112\n",
      "113\n",
      "114\n",
      "115\n",
      "116\n",
      "117\n",
      "118\n",
      "119\n",
      "120\n",
      "121\n",
      "122\n",
      "123\n",
      "124\n",
      "125\n",
      "126\n",
      "127\n",
      "128\n",
      "129\n",
      "130\n",
      "131\n",
      "132\n",
      "133\n",
      "134\n",
      "135\n",
      "136\n",
      "137\n",
      "138\n",
      "139\n",
      "140\n",
      "141\n",
      "142\n",
      "143\n",
      "144\n",
      "145\n",
      "146\n",
      "147\n",
      "148\n",
      "149\n",
      "150\n",
      "151\n",
      "152\n",
      "153\n",
      "154\n",
      "155\n",
      "156\n",
      "157\n",
      "158\n",
      "159\n",
      "160\n",
      "161\n",
      "162\n",
      "163\n",
      "164\n",
      "165\n",
      "166\n",
      "167\n",
      "168\n",
      "169\n",
      "170\n",
      "171\n",
      "172\n",
      "173\n",
      "174\n",
      "175\n",
      "176\n",
      "177\n",
      "178\n",
      "179\n",
      "180\n",
      "181\n",
      "182\n",
      "183\n",
      "184\n",
      "185\n",
      "186\n",
      "187\n",
      "188\n",
      "189\n",
      "190\n",
      "191\n",
      "192\n",
      "193\n",
      "194\n",
      "195\n",
      "196\n",
      "197\n",
      "198\n",
      "199\n"
     ]
    }
   ],
   "source": [
    "colors=['red','green','blue','orange']\n",
    "for colour in range(10,200):\n",
    "    print(colour)"
   ]
  },
  {
   "cell_type": "code",
   "execution_count": 277,
   "id": "e810bcd2-4099-4c1f-a7f7-f4f7479dfef2",
   "metadata": {},
   "outputs": [
    {
     "name": "stdout",
     "output_type": "stream",
     "text": [
      "2x1= 2\n",
      "2x1= 4\n",
      "2x1= 6\n",
      "2x1= 8\n",
      "2x1= 10\n",
      "2x1= 12\n",
      "2x1= 14\n",
      "2x1= 16\n",
      "2x1= 18\n"
     ]
    }
   ],
   "source": [
    "for i in range(1,10,1):\n",
    "    print(\"2x1=\",2*i)\n"
   ]
  },
  {
   "cell_type": "code",
   "execution_count": 3,
   "id": "3808849e-1422-4bf2-b7f3-a3519741c8b6",
   "metadata": {},
   "outputs": [
    {
     "name": "stdout",
     "output_type": "stream",
     "text": [
      "0\n",
      "1\n",
      "2\n",
      "3\n"
     ]
    }
   ],
   "source": [
    "#while loop\n",
    "i=0\n",
    "while(i<=3):\n",
    "    print(i)\n",
    "    i=i+1\n"
   ]
  },
  {
   "cell_type": "code",
   "execution_count": 7,
   "id": "152da62a-222c-4bf1-9bb1-3fab1bd92022",
   "metadata": {},
   "outputs": [],
   "source": [
    "count = 5\n",
    "while(count<5):\n",
    "    count=count-1\n",
    "    print(count)"
   ]
  },
  {
   "cell_type": "code",
   "execution_count": null,
   "id": "2da777e6-05a3-4afc-b180-849fbd3c730e",
   "metadata": {},
   "outputs": [],
   "source": []
  },
  {
   "cell_type": "code",
   "execution_count": null,
   "id": "c7b76d24-c0e9-4843-92c6-e7ea99eb3603",
   "metadata": {},
   "outputs": [],
   "source": []
  },
  {
   "cell_type": "code",
   "execution_count": null,
   "id": "fe8de6d3-da49-493f-baa8-afde0a615b85",
   "metadata": {},
   "outputs": [],
   "source": []
  },
  {
   "cell_type": "code",
   "execution_count": null,
   "id": "33d6af0f-f1e7-40b4-8718-91beacd6278c",
   "metadata": {},
   "outputs": [],
   "source": []
  },
  {
   "cell_type": "code",
   "execution_count": null,
   "id": "0d1940f3-36d2-4082-b173-167300e0e2a4",
   "metadata": {},
   "outputs": [],
   "source": []
  },
  {
   "cell_type": "code",
   "execution_count": null,
   "id": "ac4dfa3c-f6e2-4831-a427-5afbb20ea712",
   "metadata": {},
   "outputs": [],
   "source": []
  },
  {
   "cell_type": "code",
   "execution_count": null,
   "id": "43e03a91-b84f-402b-9992-00026a4035af",
   "metadata": {},
   "outputs": [],
   "source": []
  },
  {
   "cell_type": "code",
   "execution_count": null,
   "id": "6d0df544-5457-412f-813d-3e9a896e4fdb",
   "metadata": {},
   "outputs": [],
   "source": []
  },
  {
   "cell_type": "code",
   "execution_count": null,
   "id": "ce0bc35c-1c03-4ec7-bc33-0279c0ea1b3f",
   "metadata": {},
   "outputs": [],
   "source": []
  },
  {
   "cell_type": "code",
   "execution_count": null,
   "id": "092e64e7-1c1f-4f75-a96e-26cb9d770034",
   "metadata": {},
   "outputs": [],
   "source": []
  },
  {
   "cell_type": "code",
   "execution_count": null,
   "id": "40e3db49-5aab-4e43-aa4a-bf386401f283",
   "metadata": {},
   "outputs": [],
   "source": []
  },
  {
   "cell_type": "code",
   "execution_count": null,
   "id": "cd6fb34b-cf9f-4c2f-94b4-f8559b238996",
   "metadata": {},
   "outputs": [],
   "source": []
  },
  {
   "cell_type": "code",
   "execution_count": null,
   "id": "dd20fdf5-741e-4ec4-9670-ff781ca04a46",
   "metadata": {},
   "outputs": [],
   "source": []
  },
  {
   "cell_type": "code",
   "execution_count": null,
   "id": "1628233b-66ea-4cf7-a84c-979a9a11ecba",
   "metadata": {},
   "outputs": [],
   "source": []
  },
  {
   "cell_type": "code",
   "execution_count": null,
   "id": "5902e7eb-ec3c-4838-9dcd-df19b7f79550",
   "metadata": {},
   "outputs": [],
   "source": []
  },
  {
   "cell_type": "code",
   "execution_count": null,
   "id": "dd415c9b-b498-43be-aea3-6186fe8f3ad7",
   "metadata": {},
   "outputs": [],
   "source": []
  },
  {
   "cell_type": "code",
   "execution_count": null,
   "id": "ee2067a8-fbbd-4906-943c-0476e04d4f00",
   "metadata": {},
   "outputs": [],
   "source": []
  },
  {
   "cell_type": "code",
   "execution_count": null,
   "id": "0398b451-80c5-45e0-a331-2161f2e69107",
   "metadata": {},
   "outputs": [],
   "source": []
  },
  {
   "cell_type": "code",
   "execution_count": null,
   "id": "44638452-896b-436c-a5aa-1aed9cf17cc5",
   "metadata": {},
   "outputs": [],
   "source": []
  },
  {
   "cell_type": "code",
   "execution_count": null,
   "id": "58012c49-db01-47f8-9cd4-8998526703c3",
   "metadata": {},
   "outputs": [],
   "source": []
  },
  {
   "cell_type": "code",
   "execution_count": null,
   "id": "6733266b-06db-460d-8aaf-1bf42308891c",
   "metadata": {},
   "outputs": [],
   "source": []
  },
  {
   "cell_type": "code",
   "execution_count": null,
   "id": "621b1188-23d0-4db4-b9be-081ace04098c",
   "metadata": {},
   "outputs": [],
   "source": []
  },
  {
   "cell_type": "code",
   "execution_count": null,
   "id": "e2b4a309-1a6d-43c8-856f-ff75a93e5a3c",
   "metadata": {},
   "outputs": [],
   "source": []
  },
  {
   "cell_type": "code",
   "execution_count": null,
   "id": "b015b944-5370-4c30-9e62-969a5e5ec964",
   "metadata": {},
   "outputs": [],
   "source": []
  },
  {
   "cell_type": "code",
   "execution_count": null,
   "id": "f0840474-af89-4a08-a4a4-a13d373b82be",
   "metadata": {},
   "outputs": [],
   "source": []
  },
  {
   "cell_type": "code",
   "execution_count": null,
   "id": "ec3b7455-1d42-40d7-80c9-ab37964bae7f",
   "metadata": {},
   "outputs": [],
   "source": []
  },
  {
   "cell_type": "code",
   "execution_count": null,
   "id": "5e75007e-d011-4ffe-abe5-53467bd79a90",
   "metadata": {},
   "outputs": [],
   "source": []
  },
  {
   "cell_type": "code",
   "execution_count": null,
   "id": "e79a3038-9159-4b35-ab71-3d5d9960a7f1",
   "metadata": {},
   "outputs": [],
   "source": []
  },
  {
   "cell_type": "code",
   "execution_count": null,
   "id": "3ddc4331-71f8-42ba-a82f-fac12465869f",
   "metadata": {},
   "outputs": [],
   "source": []
  },
  {
   "cell_type": "code",
   "execution_count": null,
   "id": "6e4a4d52-681d-4c61-ac4b-5fc518ae29e0",
   "metadata": {},
   "outputs": [],
   "source": []
  },
  {
   "cell_type": "code",
   "execution_count": null,
   "id": "7c0a1eaa-da83-4895-8650-afae2ee46098",
   "metadata": {},
   "outputs": [],
   "source": []
  },
  {
   "cell_type": "code",
   "execution_count": null,
   "id": "55bb5627-0f9e-41af-b3e5-2f3dab970dd5",
   "metadata": {},
   "outputs": [],
   "source": []
  },
  {
   "cell_type": "code",
   "execution_count": null,
   "id": "998d1d3d-67b6-4d51-88ed-fe08dd996a14",
   "metadata": {},
   "outputs": [],
   "source": []
  },
  {
   "cell_type": "code",
   "execution_count": null,
   "id": "0569ffa8-7ba9-420f-a778-b7c153b232cc",
   "metadata": {},
   "outputs": [],
   "source": []
  },
  {
   "cell_type": "code",
   "execution_count": null,
   "id": "544e45fc-d0ee-4210-847f-fcacccbfe4ce",
   "metadata": {},
   "outputs": [],
   "source": []
  },
  {
   "cell_type": "code",
   "execution_count": null,
   "id": "cfd8cfb3-dbfd-45cf-88a8-24143337ae12",
   "metadata": {},
   "outputs": [],
   "source": []
  },
  {
   "cell_type": "code",
   "execution_count": null,
   "id": "9ba063ab-896b-4e05-8789-970681d391ba",
   "metadata": {},
   "outputs": [],
   "source": []
  },
  {
   "cell_type": "code",
   "execution_count": null,
   "id": "c97808d0-5019-4726-a7f9-11ae931af049",
   "metadata": {},
   "outputs": [],
   "source": []
  },
  {
   "cell_type": "code",
   "execution_count": null,
   "id": "39cb032e-914e-4626-89a9-dd6f5f6d7309",
   "metadata": {},
   "outputs": [],
   "source": []
  },
  {
   "cell_type": "code",
   "execution_count": null,
   "id": "83ec0501-ca64-419c-8833-77cf753ca5db",
   "metadata": {},
   "outputs": [],
   "source": []
  },
  {
   "cell_type": "code",
   "execution_count": null,
   "id": "bb94def8-6877-4891-b150-3cbab596c55a",
   "metadata": {},
   "outputs": [],
   "source": []
  },
  {
   "cell_type": "code",
   "execution_count": null,
   "id": "6e535e07-563e-4e92-ae90-270dbcf0776b",
   "metadata": {},
   "outputs": [],
   "source": []
  },
  {
   "cell_type": "code",
   "execution_count": null,
   "id": "3eefdc09-2968-445c-8061-6a8f33a33482",
   "metadata": {},
   "outputs": [],
   "source": []
  },
  {
   "cell_type": "code",
   "execution_count": null,
   "id": "edb4991f-e866-4bb7-ad6d-8a0ac5bb99b8",
   "metadata": {},
   "outputs": [],
   "source": []
  },
  {
   "cell_type": "code",
   "execution_count": null,
   "id": "16fc5df6-4e66-462b-a7bc-86c1da53c59a",
   "metadata": {},
   "outputs": [],
   "source": []
  },
  {
   "cell_type": "code",
   "execution_count": null,
   "id": "c2eca499-5c93-4996-8fd5-693c4d3b3e8e",
   "metadata": {},
   "outputs": [],
   "source": []
  },
  {
   "cell_type": "code",
   "execution_count": null,
   "id": "abc41fea-8ce8-466a-a424-9e030219b1fc",
   "metadata": {},
   "outputs": [],
   "source": []
  },
  {
   "cell_type": "code",
   "execution_count": null,
   "id": "3055fe55-3fa3-4794-bb03-1aacabeeb064",
   "metadata": {},
   "outputs": [],
   "source": []
  },
  {
   "cell_type": "code",
   "execution_count": null,
   "id": "dcbf7ceb-593d-4a0d-8b0f-f11d9424550d",
   "metadata": {},
   "outputs": [],
   "source": []
  },
  {
   "cell_type": "code",
   "execution_count": null,
   "id": "2dc61e4a-f71f-4dd9-b0db-d6ecc32c3015",
   "metadata": {},
   "outputs": [],
   "source": []
  },
  {
   "cell_type": "code",
   "execution_count": null,
   "id": "7dfb4af5-5d5e-409f-8b55-c25ddcecbe8f",
   "metadata": {},
   "outputs": [],
   "source": []
  },
  {
   "cell_type": "code",
   "execution_count": null,
   "id": "3a20e23b-ac4e-4607-9253-2ea5e6416745",
   "metadata": {},
   "outputs": [],
   "source": []
  },
  {
   "cell_type": "code",
   "execution_count": null,
   "id": "6c896829-8215-48a8-9c72-8ccce4f6a5ab",
   "metadata": {},
   "outputs": [],
   "source": []
  },
  {
   "cell_type": "code",
   "execution_count": null,
   "id": "27e645a0-39d6-4a8d-a7cb-7aa7a1913859",
   "metadata": {},
   "outputs": [],
   "source": []
  },
  {
   "cell_type": "code",
   "execution_count": null,
   "id": "e31b012f-9db5-40dc-bcbd-2af8550a2d8a",
   "metadata": {},
   "outputs": [],
   "source": []
  },
  {
   "cell_type": "code",
   "execution_count": null,
   "id": "a33d4668-292e-480c-82e4-9c65b38c57ff",
   "metadata": {},
   "outputs": [],
   "source": []
  },
  {
   "cell_type": "code",
   "execution_count": null,
   "id": "031c7307-8992-4292-8885-6e4ce42021fe",
   "metadata": {},
   "outputs": [],
   "source": []
  },
  {
   "cell_type": "code",
   "execution_count": null,
   "id": "7a266499-22a7-4374-be39-10c2bbf92f33",
   "metadata": {},
   "outputs": [],
   "source": []
  },
  {
   "cell_type": "code",
   "execution_count": null,
   "id": "e0ff47cf-9352-489b-968f-0091b3ab917a",
   "metadata": {},
   "outputs": [],
   "source": []
  },
  {
   "cell_type": "code",
   "execution_count": null,
   "id": "43180bf9-c134-4995-9780-81157c3dfb9f",
   "metadata": {},
   "outputs": [],
   "source": []
  },
  {
   "cell_type": "code",
   "execution_count": null,
   "id": "df76a574-2d97-445c-a676-7382fccc6d2a",
   "metadata": {},
   "outputs": [],
   "source": []
  },
  {
   "cell_type": "code",
   "execution_count": null,
   "id": "4319209f-abc0-4cfa-b914-4338b3a26112",
   "metadata": {},
   "outputs": [],
   "source": []
  },
  {
   "cell_type": "code",
   "execution_count": null,
   "id": "6415fd7f-a6e2-4d3e-bd5b-b2b40e6f1678",
   "metadata": {},
   "outputs": [],
   "source": []
  },
  {
   "cell_type": "code",
   "execution_count": null,
   "id": "9e685380-9fca-47b2-b273-0019761cc50e",
   "metadata": {},
   "outputs": [],
   "source": []
  },
  {
   "cell_type": "code",
   "execution_count": null,
   "id": "3c1a09b9-016a-436b-b83c-2d67d2e63e4d",
   "metadata": {},
   "outputs": [],
   "source": []
  },
  {
   "cell_type": "code",
   "execution_count": null,
   "id": "adaab9b3-69b8-40d4-9d59-a78f76eb200f",
   "metadata": {},
   "outputs": [],
   "source": []
  },
  {
   "cell_type": "code",
   "execution_count": null,
   "id": "54e1313a-9bef-45cb-80ba-ba0727c71c5a",
   "metadata": {},
   "outputs": [],
   "source": []
  },
  {
   "cell_type": "code",
   "execution_count": null,
   "id": "5954b8d9-1f32-43f4-82ea-9c348018a9d9",
   "metadata": {},
   "outputs": [],
   "source": []
  },
  {
   "cell_type": "code",
   "execution_count": null,
   "id": "459fa542-b3ae-4bf7-8311-583afaf0c365",
   "metadata": {},
   "outputs": [],
   "source": []
  },
  {
   "cell_type": "code",
   "execution_count": null,
   "id": "e967d280-dd56-49e1-b5ab-6d8818f42f15",
   "metadata": {},
   "outputs": [],
   "source": []
  },
  {
   "cell_type": "code",
   "execution_count": null,
   "id": "612a699f-f656-41cd-a96a-d3732694ea1b",
   "metadata": {},
   "outputs": [],
   "source": []
  },
  {
   "cell_type": "code",
   "execution_count": null,
   "id": "2f99e417-c7b5-4ae4-a9ce-af98b6288425",
   "metadata": {},
   "outputs": [],
   "source": []
  },
  {
   "cell_type": "markdown",
   "id": "dc8306d6-6bde-4932-bb28-696e8b34a469",
   "metadata": {},
   "source": []
  },
  {
   "cell_type": "code",
   "execution_count": null,
   "id": "7a701b22-7b3b-4ef2-86fc-7892f170c4b0",
   "metadata": {},
   "outputs": [],
   "source": []
  },
  {
   "cell_type": "code",
   "execution_count": null,
   "id": "f281115a-36a4-44c4-aff4-78f2d90b37c9",
   "metadata": {},
   "outputs": [],
   "source": []
  },
  {
   "cell_type": "code",
   "execution_count": null,
   "id": "d4f136c5-88a0-4cd7-960c-416a781116e0",
   "metadata": {},
   "outputs": [],
   "source": []
  },
  {
   "cell_type": "code",
   "execution_count": null,
   "id": "6061a863-7e78-4ef6-85c9-eee1f1881dad",
   "metadata": {},
   "outputs": [],
   "source": []
  },
  {
   "cell_type": "code",
   "execution_count": null,
   "id": "0c485ae0-fded-47ce-a619-633444a20e97",
   "metadata": {},
   "outputs": [],
   "source": []
  },
  {
   "cell_type": "code",
   "execution_count": null,
   "id": "a3ff68ee-f074-4daf-a6cc-555187a3a19f",
   "metadata": {},
   "outputs": [],
   "source": []
  },
  {
   "cell_type": "code",
   "execution_count": null,
   "id": "566e2b0a-fb2c-4e0c-871c-f55642ef62d3",
   "metadata": {},
   "outputs": [],
   "source": []
  },
  {
   "cell_type": "code",
   "execution_count": null,
   "id": "141be780-a08a-44c9-a598-c6f98ebe7bfd",
   "metadata": {},
   "outputs": [],
   "source": []
  },
  {
   "cell_type": "code",
   "execution_count": null,
   "id": "fcdcc59d-585e-4697-acb4-4af3f599d9dd",
   "metadata": {},
   "outputs": [],
   "source": []
  },
  {
   "cell_type": "code",
   "execution_count": null,
   "id": "071dff8f-9c0a-4879-949c-7485a82b07c4",
   "metadata": {},
   "outputs": [],
   "source": []
  },
  {
   "cell_type": "code",
   "execution_count": null,
   "id": "d6257a8b-00b5-4af5-a5b6-07598f3c6c80",
   "metadata": {},
   "outputs": [],
   "source": []
  },
  {
   "cell_type": "code",
   "execution_count": null,
   "id": "5d7e5113-5879-41c8-834f-93a3d3318852",
   "metadata": {},
   "outputs": [],
   "source": []
  },
  {
   "cell_type": "code",
   "execution_count": null,
   "id": "9f34799f-f160-4b27-92e8-0b5689e6479b",
   "metadata": {},
   "outputs": [],
   "source": []
  },
  {
   "cell_type": "code",
   "execution_count": null,
   "id": "65beb8d4-4d92-4b1f-a809-372e8374bf10",
   "metadata": {},
   "outputs": [],
   "source": []
  },
  {
   "cell_type": "code",
   "execution_count": null,
   "id": "ef22a820-cd3f-47b7-a757-da36c4fd194b",
   "metadata": {},
   "outputs": [],
   "source": []
  },
  {
   "cell_type": "code",
   "execution_count": null,
   "id": "7d5cc375-daed-43bc-8e0a-2978593f8376",
   "metadata": {},
   "outputs": [],
   "source": []
  },
  {
   "cell_type": "code",
   "execution_count": null,
   "id": "1899386e-f1bf-4c42-b256-7cc07117aa1b",
   "metadata": {},
   "outputs": [],
   "source": []
  },
  {
   "cell_type": "code",
   "execution_count": null,
   "id": "3799520e-6556-4357-a82b-c39404ce8e0d",
   "metadata": {},
   "outputs": [],
   "source": []
  },
  {
   "cell_type": "code",
   "execution_count": null,
   "id": "93f726ac-3c0f-4884-a6d2-d5fc37c5c5fc",
   "metadata": {},
   "outputs": [],
   "source": []
  },
  {
   "cell_type": "code",
   "execution_count": null,
   "id": "2be10576-98a7-4a12-aeb7-ff476f3fb90f",
   "metadata": {},
   "outputs": [],
   "source": []
  },
  {
   "cell_type": "code",
   "execution_count": null,
   "id": "b324ba16-d39f-4455-ab3c-5d2f16843e5a",
   "metadata": {},
   "outputs": [],
   "source": []
  },
  {
   "cell_type": "code",
   "execution_count": null,
   "id": "9ec6ebf4-256e-4630-bed4-57e127900c57",
   "metadata": {},
   "outputs": [],
   "source": []
  },
  {
   "cell_type": "code",
   "execution_count": null,
   "id": "7c763e59-058c-44bd-87b9-06f1708be36f",
   "metadata": {},
   "outputs": [],
   "source": []
  },
  {
   "cell_type": "code",
   "execution_count": null,
   "id": "4482e2d9-354f-40dc-b176-a1c9766d7a86",
   "metadata": {},
   "outputs": [],
   "source": []
  },
  {
   "cell_type": "code",
   "execution_count": null,
   "id": "8d84a4fc-ac27-4949-8da8-0d1066fed527",
   "metadata": {},
   "outputs": [],
   "source": []
  },
  {
   "cell_type": "code",
   "execution_count": null,
   "id": "579de773-db1d-45e0-893e-686aa33a8c8a",
   "metadata": {},
   "outputs": [],
   "source": []
  },
  {
   "cell_type": "code",
   "execution_count": null,
   "id": "3ceaa46a-a7ca-4cc8-bfb3-0ad495f70eb6",
   "metadata": {},
   "outputs": [],
   "source": []
  },
  {
   "cell_type": "code",
   "execution_count": null,
   "id": "ad37f4a5-ce21-4885-8fe7-149333aec598",
   "metadata": {},
   "outputs": [],
   "source": []
  },
  {
   "cell_type": "code",
   "execution_count": null,
   "id": "9bc0a531-f649-4634-af35-6b83226dcfef",
   "metadata": {},
   "outputs": [],
   "source": []
  },
  {
   "cell_type": "code",
   "execution_count": null,
   "id": "0d66fe54-0817-42c5-aafd-2ef23243b133",
   "metadata": {},
   "outputs": [],
   "source": []
  },
  {
   "cell_type": "code",
   "execution_count": null,
   "id": "a598468a-27bf-49de-813d-503828ce1ac0",
   "metadata": {},
   "outputs": [],
   "source": []
  },
  {
   "cell_type": "code",
   "execution_count": null,
   "id": "cd6a2a10-6fbc-4733-a014-e2bd077ba846",
   "metadata": {},
   "outputs": [],
   "source": [
    "\n"
   ]
  },
  {
   "cell_type": "code",
   "execution_count": null,
   "id": "4b7df772-4977-4f9e-aaf2-da91128607bf",
   "metadata": {},
   "outputs": [],
   "source": []
  },
  {
   "cell_type": "code",
   "execution_count": null,
   "id": "549cbda2-803e-4f53-821f-b72b351a4880",
   "metadata": {},
   "outputs": [],
   "source": []
  },
  {
   "cell_type": "code",
   "execution_count": null,
   "id": "3745504b-e21e-4ab4-9b77-a93ccdf02089",
   "metadata": {},
   "outputs": [],
   "source": []
  },
  {
   "cell_type": "code",
   "execution_count": null,
   "id": "63e84f50-5459-45aa-adc7-c6518a7d7453",
   "metadata": {},
   "outputs": [],
   "source": []
  },
  {
   "cell_type": "code",
   "execution_count": null,
   "id": "9e1a2923-7d57-454f-a593-b002c251d9ae",
   "metadata": {},
   "outputs": [],
   "source": []
  },
  {
   "cell_type": "code",
   "execution_count": null,
   "id": "c62dba5b-3b29-4a6f-a82d-f0f08c9a7d4e",
   "metadata": {},
   "outputs": [],
   "source": []
  },
  {
   "cell_type": "code",
   "execution_count": null,
   "id": "4356faad-d4ac-4104-8fcb-198c7347d243",
   "metadata": {},
   "outputs": [],
   "source": []
  },
  {
   "cell_type": "code",
   "execution_count": null,
   "id": "5c207843-91fd-44e1-9e28-27858c243231",
   "metadata": {},
   "outputs": [],
   "source": []
  },
  {
   "cell_type": "code",
   "execution_count": null,
   "id": "439736c2-ed11-4432-a4b2-caf8310a67bc",
   "metadata": {},
   "outputs": [],
   "source": []
  },
  {
   "cell_type": "code",
   "execution_count": null,
   "id": "2072eb99-c623-4e16-907e-995df012ef25",
   "metadata": {},
   "outputs": [],
   "source": []
  },
  {
   "cell_type": "code",
   "execution_count": null,
   "id": "4f992c68-739c-4012-9bfd-ddba4f47db9a",
   "metadata": {},
   "outputs": [],
   "source": []
  },
  {
   "cell_type": "code",
   "execution_count": null,
   "id": "0388eafa-1559-4485-8634-0f6b27fa9842",
   "metadata": {},
   "outputs": [],
   "source": []
  },
  {
   "cell_type": "code",
   "execution_count": null,
   "id": "448aa976-44b0-4dff-9d7c-680f67cbe503",
   "metadata": {},
   "outputs": [],
   "source": []
  },
  {
   "cell_type": "code",
   "execution_count": null,
   "id": "2a80c710-5a0f-4796-8295-77f08ae15bd0",
   "metadata": {},
   "outputs": [],
   "source": []
  },
  {
   "cell_type": "code",
   "execution_count": null,
   "id": "e1cde687-a137-4f88-9444-6f411e2c2212",
   "metadata": {},
   "outputs": [],
   "source": []
  },
  {
   "cell_type": "code",
   "execution_count": null,
   "id": "913c5975-5c47-43c5-bf98-3cea668ea56b",
   "metadata": {},
   "outputs": [],
   "source": []
  },
  {
   "cell_type": "code",
   "execution_count": null,
   "id": "01b4584e-836f-453e-93e1-880ea66519f5",
   "metadata": {},
   "outputs": [],
   "source": []
  },
  {
   "cell_type": "code",
   "execution_count": null,
   "id": "825a0321-d52a-4983-8096-26e99dd7bf7a",
   "metadata": {},
   "outputs": [],
   "source": []
  },
  {
   "cell_type": "code",
   "execution_count": null,
   "id": "33432e50-29e9-4b84-bc79-1d24b2b660cb",
   "metadata": {},
   "outputs": [],
   "source": []
  },
  {
   "cell_type": "code",
   "execution_count": null,
   "id": "38335284-0fc0-4434-8f77-18fe560bf71f",
   "metadata": {},
   "outputs": [],
   "source": []
  },
  {
   "cell_type": "code",
   "execution_count": null,
   "id": "c10f77a0-d957-4488-b17a-5eb289ce5eff",
   "metadata": {},
   "outputs": [],
   "source": []
  },
  {
   "cell_type": "code",
   "execution_count": null,
   "id": "06bcabbb-1b18-4051-975b-d626b313d75b",
   "metadata": {},
   "outputs": [],
   "source": []
  },
  {
   "cell_type": "code",
   "execution_count": null,
   "id": "5a5c6ab2-0560-4a9d-a848-acd2fc3b62f7",
   "metadata": {},
   "outputs": [],
   "source": []
  },
  {
   "cell_type": "code",
   "execution_count": null,
   "id": "e3c1fad0-fc0d-4b33-8aed-cf93da049eb2",
   "metadata": {},
   "outputs": [],
   "source": []
  },
  {
   "cell_type": "code",
   "execution_count": null,
   "id": "7353fe23-81b3-400c-a8de-f6fc4c6def9a",
   "metadata": {},
   "outputs": [],
   "source": []
  },
  {
   "cell_type": "code",
   "execution_count": null,
   "id": "2fca7db8-8833-47e7-a4d3-70b7b9d5dc06",
   "metadata": {},
   "outputs": [],
   "source": []
  },
  {
   "cell_type": "code",
   "execution_count": null,
   "id": "83c5d53d-692e-45c9-81ae-f2a2e1dcb82d",
   "metadata": {},
   "outputs": [],
   "source": []
  },
  {
   "cell_type": "code",
   "execution_count": null,
   "id": "45d014c7-f96f-4f54-b2d0-76ea9bb15a27",
   "metadata": {},
   "outputs": [],
   "source": []
  },
  {
   "cell_type": "code",
   "execution_count": null,
   "id": "1a634776-4c00-4a6d-ad59-b3a815cff931",
   "metadata": {},
   "outputs": [],
   "source": []
  },
  {
   "cell_type": "code",
   "execution_count": null,
   "id": "c206cd7e-1dcf-4fec-bfc5-3bafda1e2037",
   "metadata": {},
   "outputs": [],
   "source": []
  },
  {
   "cell_type": "code",
   "execution_count": null,
   "id": "e8ac1f4a-b5f4-4ea9-a7a7-363f0b83285d",
   "metadata": {},
   "outputs": [],
   "source": []
  },
  {
   "cell_type": "code",
   "execution_count": null,
   "id": "b24ffb05-0ff1-4893-835f-31489be051b5",
   "metadata": {},
   "outputs": [],
   "source": []
  },
  {
   "cell_type": "code",
   "execution_count": null,
   "id": "a5a25f14-8006-4e2b-ac6a-02c4a83bf4c4",
   "metadata": {},
   "outputs": [],
   "source": []
  },
  {
   "cell_type": "code",
   "execution_count": null,
   "id": "b093727a-331e-420c-be09-35a5fae276e5",
   "metadata": {},
   "outputs": [],
   "source": []
  },
  {
   "cell_type": "code",
   "execution_count": null,
   "id": "f6de62aa-6812-4174-9f07-66ded1c4f91f",
   "metadata": {},
   "outputs": [],
   "source": []
  },
  {
   "cell_type": "code",
   "execution_count": null,
   "id": "209c38be-0bd6-4702-ab36-eade35b644ca",
   "metadata": {},
   "outputs": [],
   "source": []
  },
  {
   "cell_type": "code",
   "execution_count": null,
   "id": "2558d403-df8f-4cea-8af3-a6a80c856067",
   "metadata": {},
   "outputs": [],
   "source": []
  },
  {
   "cell_type": "code",
   "execution_count": null,
   "id": "9873ab9c-67e3-4cdc-bad5-7172bcfcc241",
   "metadata": {},
   "outputs": [],
   "source": []
  },
  {
   "cell_type": "code",
   "execution_count": null,
   "id": "29bd273e-f05d-4f8f-932d-623b599936f3",
   "metadata": {},
   "outputs": [],
   "source": []
  },
  {
   "cell_type": "code",
   "execution_count": null,
   "id": "cd327b0e-9a5d-4497-a726-c549b543651f",
   "metadata": {},
   "outputs": [],
   "source": []
  },
  {
   "cell_type": "code",
   "execution_count": null,
   "id": "7b75849a-93bc-48c2-af83-62b64443ae7f",
   "metadata": {},
   "outputs": [],
   "source": []
  },
  {
   "cell_type": "code",
   "execution_count": null,
   "id": "57d5303b-b069-4f66-8081-ed5da6fb75d0",
   "metadata": {},
   "outputs": [],
   "source": []
  },
  {
   "cell_type": "code",
   "execution_count": null,
   "id": "206b5287-4985-4652-a09f-2022fa99dcb5",
   "metadata": {},
   "outputs": [],
   "source": []
  },
  {
   "cell_type": "code",
   "execution_count": null,
   "id": "96f900f2-88bc-435f-98b4-ed2c67d8f2ce",
   "metadata": {},
   "outputs": [],
   "source": []
  },
  {
   "cell_type": "code",
   "execution_count": null,
   "id": "4d91b37b-4aa1-40da-8a55-fc8559083850",
   "metadata": {},
   "outputs": [],
   "source": []
  },
  {
   "cell_type": "code",
   "execution_count": null,
   "id": "0ee52aaf-739d-4e29-a644-4cd3ff3c965b",
   "metadata": {},
   "outputs": [],
   "source": []
  },
  {
   "cell_type": "code",
   "execution_count": null,
   "id": "0448381e-64b4-4915-aee1-24fe82c17eb2",
   "metadata": {},
   "outputs": [],
   "source": []
  },
  {
   "cell_type": "code",
   "execution_count": null,
   "id": "21bd0d17-63de-43e1-a5e4-d143b7b3c867",
   "metadata": {},
   "outputs": [],
   "source": []
  },
  {
   "cell_type": "code",
   "execution_count": null,
   "id": "b9e4aa6a-8d74-4a9a-bdb3-b12222222a05",
   "metadata": {},
   "outputs": [],
   "source": []
  },
  {
   "cell_type": "code",
   "execution_count": null,
   "id": "36a68cbc-2936-4fe5-926c-befbce94337d",
   "metadata": {},
   "outputs": [],
   "source": []
  },
  {
   "cell_type": "code",
   "execution_count": null,
   "id": "58fee573-e9b6-4a3b-bfbf-c1eac2899fb7",
   "metadata": {},
   "outputs": [],
   "source": []
  },
  {
   "cell_type": "code",
   "execution_count": null,
   "id": "ed02b24e-d20c-4440-bbeb-548712482941",
   "metadata": {},
   "outputs": [],
   "source": []
  }
 ],
 "metadata": {
  "kernelspec": {
   "display_name": "Python 3 (ipykernel)",
   "language": "python",
   "name": "python3"
  },
  "language_info": {
   "codemirror_mode": {
    "name": "ipython",
    "version": 3
   },
   "file_extension": ".py",
   "mimetype": "text/x-python",
   "name": "python",
   "nbconvert_exporter": "python",
   "pygments_lexer": "ipython3",
   "version": "3.12.4"
  }
 },
 "nbformat": 4,
 "nbformat_minor": 5
}
