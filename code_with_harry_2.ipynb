{
  "nbformat": 4,
  "nbformat_minor": 0,
  "metadata": {
    "colab": {
      "provenance": []
    },
    "kernelspec": {
      "name": "python3",
      "display_name": "Python 3"
    },
    "language_info": {
      "name": "python"
    }
  },
  "cells": [
    {
      "cell_type": "code",
      "execution_count": null,
      "metadata": {
        "colab": {
          "base_uri": "https://localhost:8080/"
        },
        "id": "2qRJMrzkGoa3",
        "outputId": "aebf84d3-8a92-4cf3-a6ce-58562ca24665"
      },
      "outputs": [
        {
          "output_type": "stream",
          "name": "stdout",
          "text": [
            "im inside an else block\n"
          ]
        }
      ],
      "source": [
        "#while loop\n",
        "count=-6\n",
        "while(count>0):\n",
        "  print(count)\n",
        "  count=count-1\n",
        "else:\n",
        "  print(\"im inside an else block\")\n"
      ]
    },
    {
      "cell_type": "code",
      "source": [
        "for i in range(12):\n",
        "  if(i==10):\n",
        "    print(\"skip iteration\")\n",
        "    continue\n",
        "  print(\"5x\",i,\"=\",5*(i))\n",
        "print(\"i came out of the loop\")"
      ],
      "metadata": {
        "colab": {
          "base_uri": "https://localhost:8080/"
        },
        "id": "vc_N2vFaQ37y",
        "outputId": "5731a04d-68a4-4b8d-97e3-2da92d7ae50d"
      },
      "execution_count": null,
      "outputs": [
        {
          "output_type": "stream",
          "name": "stdout",
          "text": [
            "5x 0 = 0\n",
            "5x 1 = 5\n",
            "5x 2 = 10\n",
            "5x 3 = 15\n",
            "5x 4 = 20\n",
            "5x 5 = 25\n",
            "5x 6 = 30\n",
            "5x 7 = 35\n",
            "5x 8 = 40\n",
            "5x 9 = 45\n",
            "skip iteration\n",
            "5x 11 = 55\n",
            "i came out of the loop\n"
          ]
        }
      ]
    },
    {
      "cell_type": "markdown",
      "source": [
        "## **function **"
      ],
      "metadata": {
        "id": "36Gp6YdG_OPi"
      }
    },
    {
      "cell_type": "code",
      "source": [
        "#block of code that perform specific task whenever it called"
      ],
      "metadata": {
        "id": "xA0M3XXwWv9H"
      },
      "execution_count": null,
      "outputs": []
    },
    {
      "cell_type": "code",
      "source": [
        "a=9\n",
        "b=10\n",
        "gmean=(a*b)/(a+b)\n",
        "print(gmean)"
      ],
      "metadata": {
        "id": "2cVMwzjgWrWT",
        "colab": {
          "base_uri": "https://localhost:8080/"
        },
        "outputId": "3ec7ffdd-a33a-4319-a22a-2246491b95d1"
      },
      "execution_count": null,
      "outputs": [
        {
          "output_type": "stream",
          "name": "stdout",
          "text": [
            "4.7368421052631575\n"
          ]
        }
      ]
    },
    {
      "cell_type": "code",
      "source": [
        "c=9\n",
        "b=10\n",
        "gmean1=(c*b)/(c+b)\n",
        "print(gmean1)"
      ],
      "metadata": {
        "colab": {
          "base_uri": "https://localhost:8080/"
        },
        "id": "h8XWjCRLAQ0l",
        "outputId": "c3e517bc-5cf3-437a-e40d-014608f7ee8b"
      },
      "execution_count": null,
      "outputs": [
        {
          "output_type": "stream",
          "name": "stdout",
          "text": [
            "4.7368421052631575\n"
          ]
        }
      ]
    },
    {
      "cell_type": "code",
      "source": [
        "def calculateGmean(a,b):\n",
        "  mean=(a*b)/(a+b)\n",
        "  print(mean)\n",
        "  a=9\n",
        "  b=10\n",
        "  calculateGmean(a,b)\n",
        "  c=12\n",
        "  d=10\n",
        "  calculateGmean(c,d)\n"
      ],
      "metadata": {
        "id": "12hAwYOsAeCp"
      },
      "execution_count": null,
      "outputs": []
    },
    {
      "cell_type": "code",
      "source": [
        "def calculateGmean(a,b):\n",
        "  mean=(a*b)/(a+b)\n",
        "  print(mean)\n",
        "a=9\n",
        "b=10\n",
        "calculateGmean(a,b)\n",
        "c=12\n",
        "d=10\n",
        "calculateGmean(c,d)\n",
        "\n"
      ],
      "metadata": {
        "colab": {
          "base_uri": "https://localhost:8080/"
        },
        "id": "lU7WV9ZKBwjQ",
        "outputId": "9cbc6c2e-e1d8-4fb3-f023-20de344d8ae2"
      },
      "execution_count": null,
      "outputs": [
        {
          "output_type": "stream",
          "name": "stdout",
          "text": [
            "4.7368421052631575\n",
            "5.454545454545454\n"
          ]
        }
      ]
    },
    {
      "cell_type": "code",
      "source": [
        "def calculateGmean(a,b):\n",
        "  mean=(a*b)/(a+b)\n",
        "  print(mean)\n",
        "a=9\n",
        "b=10\n",
        "if(a<b):\n",
        "  print(\"a is greater\")\n",
        "else:\n",
        "  print(\"b is greateer\")\n",
        "calculateGmean(a,b)\n",
        "c=12\n",
        "d=10\n",
        "if(c<d):\n",
        "  print(\"d is greater\")\n",
        "else:\n",
        "  print(\"c is greateer\")\n",
        "calculateGmean(a,b)\n"
      ],
      "metadata": {
        "colab": {
          "base_uri": "https://localhost:8080/"
        },
        "id": "hAJnqSzsCBoh",
        "outputId": "69cd870b-7a08-46b9-8728-3b5bbccc08e2"
      },
      "execution_count": null,
      "outputs": [
        {
          "output_type": "stream",
          "name": "stdout",
          "text": [
            "a is greater\n",
            "4.7368421052631575\n",
            "c is greateer\n",
            "4.7368421052631575\n"
          ]
        }
      ]
    },
    {
      "cell_type": "code",
      "source": [
        "def isGreater(a,b):\n",
        "  if(a<b):\n",
        "    print(\"b is greater\")\n",
        "  else:\n",
        "    print(\"a is greateer\")\n",
        "a=10\n",
        "b=30\n",
        "isGreater(a,b)\n",
        "c=40\n",
        "d=20\n",
        "isGreater(c,d)\n",
        "\n",
        "\n"
      ],
      "metadata": {
        "colab": {
          "base_uri": "https://localhost:8080/"
        },
        "id": "Jtl9GULgDFER",
        "outputId": "c8bbcb41-2932-46da-dd5d-34279e8b5dc5"
      },
      "execution_count": null,
      "outputs": [
        {
          "output_type": "stream",
          "name": "stdout",
          "text": [
            "b is greater\n",
            "a is greateer\n"
          ]
        }
      ]
    },
    {
      "cell_type": "code",
      "source": [
        "#def is used only it is user defined\n"
      ],
      "metadata": {
        "id": "96L-s2iZFaM4"
      },
      "execution_count": null,
      "outputs": []
    },
    {
      "cell_type": "code",
      "source": [
        "#function arguments\n",
        "def average(a,b):\n",
        "  print(\"the average is \",(a+b)/2)\n",
        "average(4,6)"
      ],
      "metadata": {
        "colab": {
          "base_uri": "https://localhost:8080/"
        },
        "id": "cNcIEf8HEs69",
        "outputId": "96454618-916f-4300-8eeb-da4133b2120c"
      },
      "execution_count": null,
      "outputs": [
        {
          "output_type": "stream",
          "name": "stdout",
          "text": [
            "the average is  5.0\n"
          ]
        }
      ]
    },
    {
      "cell_type": "code",
      "source": [
        "def average(a=8,b=10):\n",
        "  print(\"the average is \",(a+b)/2)\n",
        "average()"
      ],
      "metadata": {
        "colab": {
          "base_uri": "https://localhost:8080/"
        },
        "id": "FHBwJ4hUHgQA",
        "outputId": "16c4c4e4-1bb1-4ae2-eac8-250f8b23fa0b"
      },
      "execution_count": null,
      "outputs": [
        {
          "output_type": "stream",
          "name": "stdout",
          "text": [
            "the average is  9.0\n"
          ]
        }
      ]
    },
    {
      "cell_type": "code",
      "source": [
        "def average(a=8,b=10):  # ignore this value #default argument\n",
        "  print(\"the average is \",(a+b)/2)\n",
        "average( 11,12)   #consider this value if both the place value are given"
      ],
      "metadata": {
        "colab": {
          "base_uri": "https://localhost:8080/"
        },
        "id": "sq1vB5o3Hve_",
        "outputId": "f85b139d-a05a-4d38-d507-37148f431ece"
      },
      "execution_count": null,
      "outputs": [
        {
          "output_type": "stream",
          "name": "stdout",
          "text": [
            "the average is  11.5\n"
          ]
        }
      ]
    },
    {
      "cell_type": "code",
      "source": [
        "def average(*numbers):\n",
        "    sum=0\n",
        "    for i in numbers:\n",
        "        sum=sum+i\n",
        "    print(\"average is :\",sum/len(numbers))"
      ],
      "metadata": {
        "id": "aMI7v9CeJOWY"
      },
      "execution_count": 1,
      "outputs": []
    },
    {
      "cell_type": "code",
      "source": [],
      "metadata": {
        "id": "KbjxfWQ97o41"
      },
      "execution_count": null,
      "outputs": []
    },
    {
      "cell_type": "code",
      "source": [],
      "metadata": {
        "id": "Xvfuc5s8Rfme"
      },
      "execution_count": null,
      "outputs": []
    },
    {
      "cell_type": "code",
      "source": [],
      "metadata": {
        "id": "56MnlbcMHWjd"
      },
      "execution_count": null,
      "outputs": []
    },
    {
      "cell_type": "code",
      "source": [],
      "metadata": {
        "id": "BGoPWqopGa1e"
      },
      "execution_count": null,
      "outputs": []
    },
    {
      "cell_type": "code",
      "source": [],
      "metadata": {
        "id": "dveKmKcGEcgY"
      },
      "execution_count": null,
      "outputs": []
    },
    {
      "cell_type": "code",
      "source": [],
      "metadata": {
        "id": "eqBXidH5Bk9R"
      },
      "execution_count": null,
      "outputs": []
    },
    {
      "cell_type": "code",
      "source": [],
      "metadata": {
        "id": "5Dqni2NqA1pa"
      },
      "execution_count": null,
      "outputs": []
    },
    {
      "cell_type": "code",
      "source": [],
      "metadata": {
        "id": "G7dgh1zjAx0H"
      },
      "execution_count": null,
      "outputs": []
    },
    {
      "cell_type": "code",
      "source": [],
      "metadata": {
        "id": "fHH2ndChAKFG"
      },
      "execution_count": null,
      "outputs": []
    },
    {
      "cell_type": "code",
      "source": [],
      "metadata": {
        "id": "bG7nvw0KWpAX"
      },
      "execution_count": null,
      "outputs": []
    },
    {
      "cell_type": "code",
      "source": [],
      "metadata": {
        "id": "wzdEFXcWWawM"
      },
      "execution_count": null,
      "outputs": []
    },
    {
      "cell_type": "code",
      "source": [],
      "metadata": {
        "id": "tSbQCdtZWEGR"
      },
      "execution_count": null,
      "outputs": []
    },
    {
      "cell_type": "code",
      "source": [],
      "metadata": {
        "id": "u-OmGToaVzA2"
      },
      "execution_count": null,
      "outputs": []
    },
    {
      "cell_type": "code",
      "source": [],
      "metadata": {
        "id": "K-4fmGgTVxUx"
      },
      "execution_count": null,
      "outputs": []
    },
    {
      "cell_type": "code",
      "source": [],
      "metadata": {
        "id": "BMhnh7cHVuhs"
      },
      "execution_count": null,
      "outputs": []
    },
    {
      "cell_type": "code",
      "source": [],
      "metadata": {
        "id": "HXPY_7zAVlvp"
      },
      "execution_count": null,
      "outputs": []
    },
    {
      "cell_type": "code",
      "source": [],
      "metadata": {
        "id": "H_A55efdVibV"
      },
      "execution_count": null,
      "outputs": []
    },
    {
      "cell_type": "code",
      "source": [],
      "metadata": {
        "id": "V1cZZNO8VXdz"
      },
      "execution_count": null,
      "outputs": []
    },
    {
      "cell_type": "code",
      "source": [],
      "metadata": {
        "id": "P73_SBb4VReV"
      },
      "execution_count": null,
      "outputs": []
    },
    {
      "cell_type": "code",
      "source": [],
      "metadata": {
        "id": "XkglCHAkVF4G"
      },
      "execution_count": null,
      "outputs": []
    },
    {
      "cell_type": "code",
      "source": [],
      "metadata": {
        "id": "Ux2Bmrd6U_5N"
      },
      "execution_count": null,
      "outputs": []
    },
    {
      "cell_type": "code",
      "source": [],
      "metadata": {
        "id": "RxENz4WIU5-A"
      },
      "execution_count": null,
      "outputs": []
    },
    {
      "cell_type": "code",
      "source": [],
      "metadata": {
        "id": "344MaYI-U2NT"
      },
      "execution_count": null,
      "outputs": []
    },
    {
      "cell_type": "code",
      "source": [],
      "metadata": {
        "id": "D59UE1pIU0A_"
      },
      "execution_count": null,
      "outputs": []
    },
    {
      "cell_type": "code",
      "source": [],
      "metadata": {
        "id": "o8qt5YUqQr4Z"
      },
      "execution_count": null,
      "outputs": []
    },
    {
      "cell_type": "code",
      "source": [],
      "metadata": {
        "id": "PmhnhUjKQp36"
      },
      "execution_count": null,
      "outputs": []
    },
    {
      "cell_type": "code",
      "source": [],
      "metadata": {
        "id": "VGMH53CRHM-x"
      },
      "execution_count": null,
      "outputs": []
    },
    {
      "cell_type": "code",
      "source": [],
      "metadata": {
        "id": "_5YtQyYTHEvm"
      },
      "execution_count": null,
      "outputs": []
    },
    {
      "cell_type": "code",
      "source": [],
      "metadata": {
        "id": "ELOqscvSG7QI"
      },
      "execution_count": null,
      "outputs": []
    }
  ]
}