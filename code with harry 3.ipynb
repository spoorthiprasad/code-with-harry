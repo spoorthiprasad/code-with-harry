{
 "cells": [
  {
   "cell_type": "code",
   "execution_count": 1,
   "id": "a700c9fc-8f22-4076-a232-bb100d55d095",
   "metadata": {},
   "outputs": [
    {
     "name": "stdout",
     "output_type": "stream",
     "text": [
      "the average is  11.5\n"
     ]
    }
   ],
   "source": [
    "def average(a,b=10):  # ignore this value #default argument here b\n",
    "  print(\"the average is \",(a+b)/2)\n",
    "average( 11,12) "
   ]
  },
  {
   "cell_type": "code",
   "execution_count": 3,
   "id": "1872728f-17a1-4639-b622-02506d2b3b1e",
   "metadata": {},
   "outputs": [
    {
     "name": "stdout",
     "output_type": "stream",
     "text": [
      "the average is  10.5\n"
     ]
    }
   ],
   "source": [
    "def average(a,b=10):  # ignore this value #default argument here b\n",
    "  print(\"the average is \",(a+b)/2)  # a is a required argument it must be give b will be ur wish\n",
    "average( 11) "
   ]
  },
  {
   "cell_type": "code",
   "execution_count": 7,
   "id": "ca3f54d0-c3a2-47b9-9208-38d7040a697a",
   "metadata": {},
   "outputs": [
    {
     "name": "stdout",
     "output_type": "stream",
     "text": [
      "the average is  11.5\n"
     ]
    }
   ],
   "source": [
    "def average(a=16,b=10):  # ignore this value #default argument here b\n",
    "  print(\"the average is \",(a+b)/2)\n",
    "average( 11,12) "
   ]
  },
  {
   "cell_type": "code",
   "execution_count": 15,
   "id": "49bac7b1-248d-44f4-a0c3-55a968916f9f",
   "metadata": {},
   "outputs": [
    {
     "name": "stdout",
     "output_type": "stream",
     "text": [
      "hello, spoo prasad R K\n"
     ]
    }
   ],
   "source": [
    "def name(fname,mname=\"prasad\",lname=\"R K\"):\n",
    "    print(\"hello,\",fname,mname,lname)\n",
    "name(\"spoo\")"
   ]
  },
  {
   "cell_type": "code",
   "execution_count": 17,
   "id": "07f94061-7e90-4e09-8a32-66d3125c3d83",
   "metadata": {},
   "outputs": [
    {
     "name": "stdout",
     "output_type": "stream",
     "text": [
      "the average is  11.5\n"
     ]
    }
   ],
   "source": [
    "#key word arguments\n",
    "def average(a=16,b=10):  # ignore this value #default argument here b\n",
    "  print(\"the average is \",(a+b)/2)\n",
    "average( b=11,a=12)     #it just identify based on keyword not based on order of arguments\n"
   ]
  },
  {
   "cell_type": "code",
   "execution_count": 29,
   "id": "e04f0cca-259d-48a8-a20f-b59b1aaadc70",
   "metadata": {},
   "outputs": [],
   "source": [
    "#variable length arguments\n",
    "def average(*numbers):\n",
    "    sum=0\n",
    "    for i in numbers:\n",
    "        sum=sum+i\n",
    "    print(\"average is :\",sum/len(numbers))"
   ]
  },
  {
   "cell_type": "code",
   "execution_count": 45,
   "id": "0730fae3-d4be-4c80-a300-591c1ebcb604",
   "metadata": {},
   "outputs": [],
   "source": [
    "def average(*numbers):\n",
    "    print(\"wrong\")\n",
    "    sum=0\n",
    "    for i in numbers:\n",
    "        sum=sum+i\n",
    "    print(\"average is :\",sum/len(numbers))\n",
    "    return sum/len(numbers)"
   ]
  },
  {
   "cell_type": "code",
   "execution_count": null,
   "id": "83d5e3fa-aafe-4bd1-9a80-c9bf1c48039a",
   "metadata": {},
   "outputs": [],
   "source": []
  },
  {
   "cell_type": "code",
   "execution_count": null,
   "id": "ce32dd3c-18d2-4c1e-a2eb-cb5a3177770a",
   "metadata": {},
   "outputs": [],
   "source": []
  },
  {
   "cell_type": "code",
   "execution_count": null,
   "id": "c6ee0ca3-eed6-4abe-96e3-9186ea87136f",
   "metadata": {},
   "outputs": [],
   "source": []
  },
  {
   "cell_type": "code",
   "execution_count": null,
   "id": "a0156c7f-9603-4698-ada9-fb4d8dc818f4",
   "metadata": {},
   "outputs": [],
   "source": []
  },
  {
   "cell_type": "code",
   "execution_count": null,
   "id": "37e28339-d1f2-4a3e-91b6-0a5fa1ae4dfc",
   "metadata": {},
   "outputs": [],
   "source": []
  },
  {
   "cell_type": "code",
   "execution_count": null,
   "id": "417494c3-1514-4353-96be-012461e27356",
   "metadata": {},
   "outputs": [],
   "source": []
  },
  {
   "cell_type": "code",
   "execution_count": null,
   "id": "4b1b8c34-df51-4627-b64e-975f8d77cca4",
   "metadata": {},
   "outputs": [],
   "source": []
  },
  {
   "cell_type": "code",
   "execution_count": null,
   "id": "0d3a3aa5-5420-4f38-8101-09b2fc79319f",
   "metadata": {},
   "outputs": [],
   "source": []
  },
  {
   "cell_type": "code",
   "execution_count": null,
   "id": "814677dc-a246-4bac-9a88-f3dd929792c2",
   "metadata": {},
   "outputs": [],
   "source": []
  },
  {
   "cell_type": "code",
   "execution_count": null,
   "id": "6c3ed8f9-2b2d-4b3a-833c-c1d747380481",
   "metadata": {},
   "outputs": [],
   "source": []
  },
  {
   "cell_type": "code",
   "execution_count": null,
   "id": "1125940f-9e50-4df8-932a-b4ccea252568",
   "metadata": {},
   "outputs": [],
   "source": []
  },
  {
   "cell_type": "code",
   "execution_count": null,
   "id": "99253784-ed2b-46ac-961b-2e20871f0601",
   "metadata": {},
   "outputs": [],
   "source": []
  },
  {
   "cell_type": "code",
   "execution_count": null,
   "id": "7c4b9027-4524-4a33-aebf-9b7253e1e604",
   "metadata": {},
   "outputs": [],
   "source": []
  },
  {
   "cell_type": "code",
   "execution_count": null,
   "id": "d285c440-3688-41b3-8e32-d6442dcc41cc",
   "metadata": {},
   "outputs": [],
   "source": []
  },
  {
   "cell_type": "code",
   "execution_count": null,
   "id": "de9cfc77-e140-4d32-9553-9d117c1dc3ea",
   "metadata": {},
   "outputs": [],
   "source": []
  },
  {
   "cell_type": "code",
   "execution_count": null,
   "id": "3abac8b1-ecd0-4045-96d6-3b874b2429e6",
   "metadata": {},
   "outputs": [],
   "source": []
  },
  {
   "cell_type": "code",
   "execution_count": null,
   "id": "5daef6d3-0ad0-41ce-b979-54a8cd5f0215",
   "metadata": {},
   "outputs": [],
   "source": []
  },
  {
   "cell_type": "code",
   "execution_count": null,
   "id": "3d39e52c-f840-4742-b796-fd03888aa1cd",
   "metadata": {},
   "outputs": [],
   "source": []
  },
  {
   "cell_type": "code",
   "execution_count": null,
   "id": "ebb7355e-85d8-4df3-b245-3f93743ff3f8",
   "metadata": {},
   "outputs": [],
   "source": []
  },
  {
   "cell_type": "code",
   "execution_count": null,
   "id": "80b1ec20-4404-478f-a5f1-cc4c5bd079b2",
   "metadata": {},
   "outputs": [],
   "source": []
  },
  {
   "cell_type": "code",
   "execution_count": null,
   "id": "d1286ab6-3e2d-430f-985b-92a4491b2b86",
   "metadata": {},
   "outputs": [],
   "source": []
  },
  {
   "cell_type": "code",
   "execution_count": null,
   "id": "5175d58f-c227-4c66-8959-5cbe9162be4c",
   "metadata": {},
   "outputs": [],
   "source": []
  },
  {
   "cell_type": "code",
   "execution_count": null,
   "id": "bb9545eb-5a29-4d30-878e-86041c0a7789",
   "metadata": {},
   "outputs": [],
   "source": []
  },
  {
   "cell_type": "code",
   "execution_count": null,
   "id": "2fd015a3-107a-4cc3-9299-b53dc31cefcf",
   "metadata": {},
   "outputs": [],
   "source": []
  },
  {
   "cell_type": "code",
   "execution_count": null,
   "id": "8fa8f193-005d-4a35-995e-77e40949eee2",
   "metadata": {},
   "outputs": [],
   "source": []
  },
  {
   "cell_type": "code",
   "execution_count": null,
   "id": "55b108bc-484d-4949-b1fa-4204212d71f0",
   "metadata": {},
   "outputs": [],
   "source": []
  },
  {
   "cell_type": "code",
   "execution_count": null,
   "id": "4e5208d1-9f7a-4a32-ae91-ffef62d8b9a8",
   "metadata": {},
   "outputs": [],
   "source": []
  },
  {
   "cell_type": "code",
   "execution_count": null,
   "id": "f0b95ce5-732c-4624-8344-24fed6110c73",
   "metadata": {},
   "outputs": [],
   "source": []
  },
  {
   "cell_type": "code",
   "execution_count": null,
   "id": "bad2a1ca-4262-49c3-a35d-f36745f3093e",
   "metadata": {},
   "outputs": [],
   "source": []
  },
  {
   "cell_type": "code",
   "execution_count": null,
   "id": "c03c0ff2-05ad-4b9c-b11c-89459461c6c0",
   "metadata": {},
   "outputs": [],
   "source": []
  },
  {
   "cell_type": "code",
   "execution_count": null,
   "id": "1d254d0a-284d-4c1f-9ed4-d53b516ae343",
   "metadata": {},
   "outputs": [],
   "source": []
  },
  {
   "cell_type": "code",
   "execution_count": null,
   "id": "e76f0887-1596-452f-9aa4-0acd910c91ab",
   "metadata": {},
   "outputs": [],
   "source": []
  },
  {
   "cell_type": "code",
   "execution_count": null,
   "id": "f8f85163-670d-42ec-a286-bc53a1edac9e",
   "metadata": {},
   "outputs": [],
   "source": []
  }
 ],
 "metadata": {
  "kernelspec": {
   "display_name": "Python 3 (ipykernel)",
   "language": "python",
   "name": "python3"
  },
  "language_info": {
   "codemirror_mode": {
    "name": "ipython",
    "version": 3
   },
   "file_extension": ".py",
   "mimetype": "text/x-python",
   "name": "python",
   "nbconvert_exporter": "python",
   "pygments_lexer": "ipython3",
   "version": "3.12.4"
  }
 },
 "nbformat": 4,
 "nbformat_minor": 5
}
